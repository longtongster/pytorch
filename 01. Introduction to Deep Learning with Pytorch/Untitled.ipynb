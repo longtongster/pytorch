{
 "cells": [
  {
   "cell_type": "markdown",
   "id": "ff3204d8-78e7-4f38-947a-92a501b06da4",
   "metadata": {},
   "source": [
    "# Introduction to Deep Learning with PyTorch"
   ]
  },
  {
   "cell_type": "markdown",
   "id": "95bfc4e7-a704-4bb3-a3c4-cd38b1459978",
   "metadata": {},
   "source": [
    "## Chapter 1 - Introduction to PyTorch, a Deep Learning Library"
   ]
  },
  {
   "cell_type": "markdown",
   "id": "8057243a-e4d1-44af-9a75-97a5dc963e1e",
   "metadata": {},
   "source": [
    "### Section 1.1 - Introduction to deep learning with PyTorch"
   ]
  },
  {
   "cell_type": "markdown",
   "id": "4fcd5d1c-1fd8-4952-acbf-e141f89bafdc",
   "metadata": {},
   "source": [
    "#### Getting started with PyTorch tensors\n",
    "Tensors are PyTorch's core data structure and the foundation of deep learning. They're similar to NumPy arrays but have unique features.\n",
    "\n",
    "Here you have a Python list named temperatures containing daily readings from two weather stations. Try converting this into a tensor!"
   ]
  },
  {
   "cell_type": "code",
   "execution_count": 2,
   "id": "2427394c-f44b-47e7-8305-1ecb6af0c4e7",
   "metadata": {},
   "outputs": [
    {
     "name": "stdout",
     "output_type": "stream",
     "text": [
      "tensor([[72, 75, 78],\n",
      "        [70, 73, 76]])\n"
     ]
    }
   ],
   "source": [
    "# Import PyTorch\n",
    "import torch\n",
    "\n",
    "temperatures = [[72, 75, 78], [70, 73, 76]]\n",
    "\n",
    "# Create a tensor from temperatures\n",
    "temp_tensor = torch.tensor(temperatures)\n",
    "\n",
    "print(temp_tensor)"
   ]
  },
  {
   "cell_type": "markdown",
   "id": "364df9a2-0173-4110-9f17-a141b588e453",
   "metadata": {},
   "source": [
    "#### Checking and adding tensors\n",
    "\n",
    "While collecting temperature data, you notice the readings are off by two degrees. Add two degrees to the `temperatures` tensor after verifying its shape and data type with `torch` to ensure compatibility with the adjustment tensor.\n",
    "\n",
    "The torch library and the temperatures tensor are loaded for you."
   ]
  },
  {
   "cell_type": "code",
   "execution_count": 5,
   "id": "2efc88d1-c469-4aeb-b877-499b78cb9258",
   "metadata": {},
   "outputs": [
    {
     "name": "stdout",
     "output_type": "stream",
     "text": [
      "Adjustment shape: torch.Size([2, 3])\n",
      "Adjustment type: torch.int64\n",
      "Temperatures shape: torch.Size([2, 3])\n",
      "Temperatures type: torch.int64\n"
     ]
    }
   ],
   "source": [
    "adjustment = torch.tensor([[2, 2, 2], [2, 2, 2]])\n",
    "\n",
    "# Display the shape of the adjustment tensor\n",
    "print(\"Adjustment shape:\", adjustment.shape)\n",
    "\n",
    "# Display the type of the adjustment tensor\n",
    "print(\"Adjustment type:\", adjustment.dtype)\n",
    "\n",
    "print(\"Temperatures shape:\", temp_tensor.shape)\n",
    "print(\"Temperatures type:\", temp_tensor.dtype)"
   ]
  },
  {
   "cell_type": "code",
   "execution_count": 6,
   "id": "bf9e2fc5-277e-4473-8369-3510430ff657",
   "metadata": {},
   "outputs": [
    {
     "name": "stdout",
     "output_type": "stream",
     "text": [
      "Corrected temperatures: tensor([[74, 77, 80],\n",
      "        [72, 75, 78]])\n"
     ]
    }
   ],
   "source": [
    "adjustment = torch.tensor([[2, 2, 2], [2, 2, 2]])\n",
    "\n",
    "# Add the temperatures and adjustment tensors\n",
    "corrected_temperatures = temp_tensor + adjustment\n",
    "print(\"Corrected temperatures:\", corrected_temperatures)"
   ]
  },
  {
   "cell_type": "markdown",
   "id": "5d8eea95-59a5-4146-8b01-f6ee2d3f8910",
   "metadata": {},
   "source": [
    "### Section 1.2 - Neural networks and layers"
   ]
  },
  {
   "cell_type": "markdown",
   "id": "b57d7f75-2427-4c71-9726-ba941c2f0bd4",
   "metadata": {},
   "source": [
    "#### Linear layer network\n",
    "\n",
    "Neural networks often contain many layers, but most of them are linear layers. Understanding a single linear layer helps you grasp how they work before adding complexity.\n",
    "\n",
    "Apply a linear layer to an input tensor and observe the output."
   ]
  },
  {
   "cell_type": "code",
   "execution_count": 8,
   "id": "f62233af-9273-4c39-abe2-05cac53f927d",
   "metadata": {},
   "outputs": [
    {
     "name": "stdout",
     "output_type": "stream",
     "text": [
      "tensor([[-0.5795,  0.3002]], grad_fn=<AddmmBackward0>)\n"
     ]
    }
   ],
   "source": [
    "import torch\n",
    "import torch.nn as nn\n",
    "\n",
    "input_tensor = torch.tensor([[0.3471, 0.4547, -0.2356]])\n",
    "\n",
    "# Create a Linear layer\n",
    "linear_layer = nn.Linear(\n",
    "                         in_features=3, \n",
    "                         out_features=2\n",
    "                         )\n",
    "\n",
    "# Pass input_tensor through the linear layer\n",
    "output = linear_layer(input_tensor)\n",
    "\n",
    "print(output)"
   ]
  },
  {
   "cell_type": "markdown",
   "id": "d28934d2-1a81-4251-a1b9-b5e807d1c189",
   "metadata": {},
   "source": [
    "### Section 1.3 - Hidden layers and parameters"
   ]
  },
  {
   "cell_type": "markdown",
   "id": "ae5de6ee-f760-464f-a0a1-eb9caad3acb6",
   "metadata": {},
   "source": [
    "#### Your first neural network\n",
    "\n",
    "It's time for you to implement a small neural network containing two linear layers in sequence."
   ]
  },
  {
   "cell_type": "code",
   "execution_count": 9,
   "id": "395dc920-58cf-476f-9a10-f588bd2ed74f",
   "metadata": {},
   "outputs": [
    {
     "name": "stdout",
     "output_type": "stream",
     "text": [
      "tensor([[1.7470]], grad_fn=<AddmmBackward0>)\n"
     ]
    }
   ],
   "source": [
    "import torch\n",
    "import torch.nn as nn\n",
    "\n",
    "input_tensor = torch.Tensor([[2, 3, 6, 7, 9, 3, 2, 1]])\n",
    "\n",
    "# Create a container for stacking linear layers\n",
    "model = nn.Sequential(nn.Linear(8, 4),\n",
    "                nn.Linear(4, 1)\n",
    "                )\n",
    "\n",
    "output = model(input_tensor)\n",
    "print(output)"
   ]
  },
  {
   "cell_type": "markdown",
   "id": "fb78f081-6e31-4cb7-982a-57ff94ae87be",
   "metadata": {},
   "source": [
    "#### Counting the number of parameters\n",
    "\n",
    "Deep learning models are famous for having a lot of parameters. With more parameters comes more computational complexity and longer training times, and a deep learning practitioner must know how many parameters their model has.\n",
    "\n",
    "In this exercise, you'll first calculate the number of parameters manually. Then, you'll verify your result using the .numel() method."
   ]
  },
  {
   "cell_type": "code",
   "execution_count": 16,
   "id": "57f25c80-fc95-494d-adce-47a3e403c720",
   "metadata": {},
   "outputs": [
    {
     "name": "stdout",
     "output_type": "stream",
     "text": [
      "The number of parameters in the model is 53\n"
     ]
    }
   ],
   "source": [
    "model = nn.Sequential(nn.Linear(9, 4),\n",
    "                      nn.Linear(4, 2),\n",
    "                      nn.Linear(2, 1))\n",
    "\n",
    "total = 0\n",
    "\n",
    "# Calculate the number of parameters in the model\n",
    "for params in model.parameters():\n",
    "    #print(params)\n",
    "    total += params.numel()\n",
    "  \n",
    "print(f\"The number of parameters in the model is {total}\")"
   ]
  },
  {
   "cell_type": "markdown",
   "id": "9fd67e38-9748-4eb2-9152-f84b4e7cb865",
   "metadata": {},
   "source": [
    "## Chapter 2 - Neural Network Architecture and Hyperparameters"
   ]
  },
  {
   "cell_type": "markdown",
   "id": "843aad23-1e5f-45aa-a275-b6068c88dccd",
   "metadata": {},
   "source": [
    "### Section 2.1 - discovering activation function"
   ]
  },
  {
   "cell_type": "markdown",
   "id": "f4b7bd21-58a5-46d8-85b8-c650dd578c0e",
   "metadata": {},
   "source": [
    "#### The sigmoid and softmax functions\n",
    "\n",
    "The sigmoid and softmax functions are key activation functions in deep learning, often used as the final step in a neural network.\n",
    "\n",
    "Sigmoid is for binary classification\n",
    "Softmax is for multi-class classification\n",
    "Given a pre-activation output tensor from a network, apply the appropriate activation function to obtain the final output.\n",
    "\n",
    "torch.nn has already been imported as nn."
   ]
  },
  {
   "cell_type": "code",
   "execution_count": 17,
   "id": "4ee4c68d-6121-4690-96a4-e2f65bcc70c5",
   "metadata": {},
   "outputs": [
    {
     "name": "stdout",
     "output_type": "stream",
     "text": [
      "tensor([[0.9168]])\n"
     ]
    }
   ],
   "source": [
    "input_tensor = torch.tensor([[2.4]])\n",
    "\n",
    "# Create a sigmoid function and apply it on input_tensor\n",
    "sigmoid = nn.Sigmoid()\n",
    "probability = sigmoid(input_tensor)\n",
    "print(probability)"
   ]
  },
  {
   "cell_type": "code",
   "execution_count": 21,
   "id": "749b700e-3ef8-410d-835b-4ba5542109eb",
   "metadata": {},
   "outputs": [
    {
     "name": "stdout",
     "output_type": "stream",
     "text": [
      "tensor([[1.2828e-01, 1.1698e-04, 5.7492e-01, 3.4961e-02, 1.5669e-01, 1.0503e-01]])\n"
     ]
    }
   ],
   "source": [
    "input_tensor = torch.tensor([[1.0, -6.0, 2.5, -0.3, 1.2, 0.8]])\n",
    "\n",
    "# Create a softmax function and apply it on input_tensor\n",
    "softmax = nn.Softmax(dim=1)\n",
    "probabilities = softmax(input_tensor)\n",
    "print(probabilities)"
   ]
  },
  {
   "cell_type": "markdown",
   "id": "a856084e-342c-4a4b-8fea-24890321047c",
   "metadata": {},
   "source": [
    "### Section 2.2 - running a forward pass"
   ]
  },
  {
   "cell_type": "markdown",
   "id": "ce75928e-d115-4d03-82bd-4d9b668f214b",
   "metadata": {},
   "source": [
    "#### Building a binary classifier in PyTorch\n",
    "\n",
    "Recall that a small neural network with a single linear layer followed by a sigmoid function is a binary classifier. It acts just like a logistic regression.\n",
    "\n",
    "Practice building this small network and interpreting the output of the classifier."
   ]
  },
  {
   "cell_type": "code",
   "execution_count": 23,
   "id": "86e9542a-7d2f-4117-a938-86c3bde0bdd3",
   "metadata": {},
   "outputs": [
    {
     "name": "stdout",
     "output_type": "stream",
     "text": [
      "tensor([[0.0035]], grad_fn=<SigmoidBackward0>)\n"
     ]
    }
   ],
   "source": [
    "import torch\n",
    "import torch.nn as nn\n",
    "\n",
    "input_tensor = torch.Tensor([[3, 4, 6, 2, 3, 6, 8, 9]])\n",
    "\n",
    "# Implement a small neural network for binary classification\n",
    "model = nn.Sequential(\n",
    "  nn.Linear(8,1),\n",
    "  nn.Sigmoid()\n",
    ")\n",
    "\n",
    "output = model(input_tensor)\n",
    "print(output)"
   ]
  },
  {
   "cell_type": "markdown",
   "id": "4e3bbaa2-fafb-40c3-ae1d-1ef4e6ea7b74",
   "metadata": {},
   "source": [
    "#### From regression to multi-class classification\n",
    "\n",
    "The models you have seen for binary classification, multi-class classification and regression have all been similar, barring a few tweaks to the model.\n",
    "\n",
    "Start building a model for regression, and then tweak the model to perform a multi-class classification."
   ]
  },
  {
   "cell_type": "code",
   "execution_count": 27,
   "id": "796b89b7-9df8-47f2-82c4-82261b2d3e0c",
   "metadata": {},
   "outputs": [
    {
     "name": "stdout",
     "output_type": "stream",
     "text": [
      "tensor([[0.3857, 0.2766, 0.2157, 0.1219]], grad_fn=<SoftmaxBackward0>)\n"
     ]
    }
   ],
   "source": [
    "import torch\n",
    "import torch.nn as nn\n",
    "\n",
    "input_tensor = torch.Tensor([[3, 4, 6, 7, 10, 12, 2, 3, 6, 8, 9]])\n",
    "\n",
    "# Update network below to perform a multi-class classification with four labels\n",
    "model = nn.Sequential(\n",
    "  nn.Linear(11, 20),\n",
    "  nn.Linear(20, 12),\n",
    "  nn.Linear(12, 6),\n",
    "  nn.Linear(6, 4),\n",
    "  nn.Softmax(dim=1)\n",
    ")\n",
    "\n",
    "output = model(input_tensor)\n",
    "print(output)"
   ]
  },
  {
   "cell_type": "markdown",
   "id": "30877b72-e893-4508-9abb-3c7cbdb30423",
   "metadata": {},
   "source": [
    "### Section 2.3 - Using loss functions to assess model predictions\n",
    "\n",
    "#### Creating one-hot encoded labels\n",
    "One-hot encoding converts a single integer label into a vector with N elements, where N is the number of classes. This vector contains zeros and a one at the correct position.\n",
    "\n",
    "In this exercise, you'll manually create a one-hot encoded vector for y, and then use PyTorch to simplify the process. Your dataset has three classes (0, 1, 2).\n",
    "\n",
    "`numpy (np)`, `torch.nn.functional (F)`, and `torch` are already imported for you."
   ]
  },
  {
   "cell_type": "code",
   "execution_count": 30,
   "id": "90c61980-8b6f-477b-8021-6d225bae8744",
   "metadata": {},
   "outputs": [
    {
     "name": "stdout",
     "output_type": "stream",
     "text": [
      "One-hot vector using NumPy: [0 1 0]\n",
      "One-hot vector using PyTorch: tensor([0, 1, 0])\n"
     ]
    }
   ],
   "source": [
    "import torch.nn.functional as F\n",
    "import numpy as np\n",
    "\n",
    "y = 1\n",
    "num_classes = 3\n",
    "\n",
    "# Create the one-hot encoded vector using NumPy\n",
    "one_hot_numpy = np.array([0, 1, 0])\n",
    "\n",
    "# Create the one-hot encoded vector using PyTorch\n",
    "one_hot_pytorch = F.one_hot(torch.tensor(y), num_classes=3)\n",
    "\n",
    "print(\"One-hot vector using NumPy:\", one_hot_numpy)\n",
    "print(\"One-hot vector using PyTorch:\", one_hot_pytorch)"
   ]
  },
  {
   "cell_type": "markdown",
   "id": "0f308cd8-900c-4868-b7e4-cf389e835f8c",
   "metadata": {},
   "source": [
    "#### Calculating cross entropy loss\n",
    "\n",
    "Cross-entropy loss is a widely used method to measure classification loss. In this exercise, you’ll calculate cross-entropy loss in PyTorch using:\n",
    "\n",
    "- `y`: the ground truth label.\n",
    "- `scores`: a vector of predictions before softmax.\n",
    "\n",
    "Loss functions help neural networks learn by measuring prediction errors. Create a one-hot encoded vector for y, define the cross-entropy loss function, and compute the loss using scores and the encoded label. The result will be a single float representing the sample's loss.\n",
    "\n",
    "`torch`, `CrossEntropyLoss`, and `torch.nn.functional` as `F` have already been imported for you."
   ]
  },
  {
   "cell_type": "code",
   "execution_count": 31,
   "id": "5afff2c2-b37f-4a6a-9468-79f988066759",
   "metadata": {},
   "outputs": [
    {
     "name": "stdout",
     "output_type": "stream",
     "text": [
      "tensor(8.0619, dtype=torch.float64)\n"
     ]
    }
   ],
   "source": [
    "import torch\n",
    "import torch.nn.functional as F\n",
    "from torch.nn import CrossEntropyLoss\n",
    "\n",
    "y = [2]\n",
    "scores = torch.tensor([[0.1, 6.0, -2.0, 3.2]])\n",
    "\n",
    "# Create a one-hot encoded vector of the label y\n",
    "one_hot_label = F.one_hot(torch.tensor(y), num_classes=4)\n",
    "\n",
    "# Create the cross entropy loss function\n",
    "criterion = CrossEntropyLoss()\n",
    "\n",
    "# Calculate the cross entropy loss\n",
    "loss = criterion(scores.double(), one_hot_label.double())\n",
    "print(loss)"
   ]
  },
  {
   "cell_type": "markdown",
   "id": "7539d36d-e944-4457-afc2-315af368b00d",
   "metadata": {},
   "source": [
    "### Section 2.4 - Using derivatives to update model parameters"
   ]
  },
  {
   "cell_type": "markdown",
   "id": "16345c9b-e22b-4e9d-8047-d4d1128c02a5",
   "metadata": {},
   "source": [
    "#### Accessing the model parameters\n",
    "\n",
    "A PyTorch model created with the `nn.Sequential()` is a module that contains the different layers of your network. Recall that each layer parameter can be accessed by indexing the created model directly. In this exercise, you will practice accessing the parameters of different linear layers of a neural network."
   ]
  },
  {
   "cell_type": "code",
   "execution_count": 32,
   "id": "0936c8ff-e115-4dcf-9d01-6a3c91f22c4a",
   "metadata": {},
   "outputs": [
    {
     "name": "stdout",
     "output_type": "stream",
     "text": [
      "Weight of the first layer: Parameter containing:\n",
      "tensor([[ 0.1617,  0.0397,  0.1497,  0.1700,  0.2119, -0.2094, -0.1081,  0.0210,\n",
      "         -0.1026, -0.0270, -0.1196,  0.2085,  0.1260,  0.1189,  0.2382, -0.1286],\n",
      "        [ 0.2177, -0.0268,  0.1033,  0.1875,  0.0241, -0.0741,  0.0349,  0.2313,\n",
      "          0.0304, -0.0983,  0.0252, -0.1887,  0.0382,  0.1333,  0.0295, -0.0638],\n",
      "        [-0.0875, -0.0446,  0.0326,  0.2142, -0.1323, -0.1868,  0.1845,  0.0855,\n",
      "          0.2117, -0.2131, -0.1945,  0.0839, -0.0864,  0.1829, -0.0882,  0.0728],\n",
      "        [-0.0076,  0.1848, -0.1924, -0.1329,  0.2388, -0.1941, -0.0439, -0.1929,\n",
      "          0.1133, -0.0860, -0.0498, -0.2002,  0.2145,  0.0910, -0.0765, -0.0572],\n",
      "        [-0.0004, -0.2412, -0.0775,  0.1716, -0.1473, -0.0396, -0.1608, -0.2016,\n",
      "         -0.1252,  0.0864, -0.0735,  0.0526, -0.2240,  0.0455, -0.0840,  0.2091],\n",
      "        [ 0.2143,  0.1801,  0.1207, -0.1909,  0.1965,  0.2219,  0.2411,  0.2268,\n",
      "         -0.0122, -0.0631, -0.1668, -0.1393, -0.0550,  0.2404, -0.1703,  0.0318],\n",
      "        [ 0.0495, -0.1235,  0.0796,  0.2117, -0.1326,  0.1995, -0.1062,  0.0966,\n",
      "          0.1268, -0.2336, -0.1320,  0.1413, -0.2253,  0.2138, -0.2191, -0.1050],\n",
      "        [ 0.1955, -0.1306,  0.0797,  0.0128,  0.1181,  0.1781, -0.0637,  0.1572,\n",
      "          0.1841, -0.0234,  0.1706,  0.0075, -0.0615,  0.1180,  0.1409, -0.0307]],\n",
      "       requires_grad=True)\n",
      "Bias of the second layer: Parameter containing:\n",
      "tensor([0.0786, 0.0470], requires_grad=True)\n"
     ]
    }
   ],
   "source": [
    "model = nn.Sequential(nn.Linear(16, 8),\n",
    "                      nn.Linear(8, 2)\n",
    "                     )\n",
    "\n",
    "# Access the weight of the first linear layer\n",
    "weight_0 = model[0].weight\n",
    "print(\"Weight of the first layer:\", weight_0)\n",
    "\n",
    "# Access the bias of the second linear layer\n",
    "bias_1 = model[1].bias\n",
    "print(\"Bias of the second layer:\", bias_1)"
   ]
  },
  {
   "cell_type": "markdown",
   "id": "61879322-0487-4644-a204-bedfe9cf7124",
   "metadata": {},
   "source": [
    "#### Updating the weights manually\n",
    "\n",
    "Now that you know how to access weights and biases, you will manually perform the job of the PyTorch optimizer. While PyTorch automates this, practicing it manually helps you build intuition for how models learn and adjust. This understanding will be valuable when debugging or fine-tuning neural networks.\n",
    "\n",
    "A neural network of three layers has been created and stored as the model variable. This network has been used for a forward pass and the loss and its derivatives have been calculated. A default learning rate, lr, has been chosen to scale the gradients when performing the update."
   ]
  },
  {
   "cell_type": "code",
   "execution_count": 65,
   "id": "30828207-fa00-4125-afa0-dd573648587f",
   "metadata": {},
   "outputs": [
    {
     "name": "stdout",
     "output_type": "stream",
     "text": [
      "tensor([[-0.3071,  0.0870,  0.1546,  0.2295],\n",
      "        [-0.3298,  0.3811,  0.4934,  0.0941]])\n"
     ]
    }
   ],
   "source": [
    "import torch\n",
    "import torch.nn as nn\n",
    "import torch.nn.functional as F\n",
    "\n",
    "# Input\n",
    "input_tensor = torch.randn((1, 16))\n",
    "y = torch.tensor([0])\n",
    "\n",
    "# Model\n",
    "model = nn.Sequential(\n",
    "    nn.Linear(16, 8),\n",
    "    nn.Linear(8, 4),\n",
    "    nn.Linear(4, 2)\n",
    ")\n",
    "\n",
    "# Forward pass\n",
    "output = model(input_tensor)\n",
    "\n",
    "# Loss\n",
    "criterion = nn.CrossEntropyLoss()\n",
    "loss = criterion(output, y)\n",
    "\n",
    "# Backward pass\n",
    "loss.backward()\n",
    "\n",
    "# Learning rate\n",
    "lr = 0.001\n",
    "\n",
    "# Manual weight update (no torch.no_grad, using .data)\n",
    "weight0 = model[0].weight\n",
    "weight1 = model[1].weight\n",
    "weight2 = model[2].weight\n",
    "\n",
    "weight0.data -= lr * weight0.grad\n",
    "weight1.data -= lr * weight1.grad\n",
    "weight2.data -= lr * weight2.grad\n",
    "print(weight2.data)\n",
    "\n",
    "# Don't forget to zero the gradients\n",
    "model.zero_grad()"
   ]
  },
  {
   "cell_type": "markdown",
   "id": "e428a0bd-9f02-480e-bc35-1e5a30980654",
   "metadata": {},
   "source": [
    "#### Using the PyTorch optimizer\n",
    "\n",
    "Earlier, you manually updated the weight of a network, gaining insight into how training works behind the scenes. However, this method isn’t scalable for deep networks with many layers.\n",
    "\n",
    "Thankfully, PyTorch provides the SGD optimizer, which automates this process efficiently in just a few lines of code. Now, you’ll complete the training loop by updating the weights using a PyTorch optimizer.\n",
    "\n",
    "A neural network has been created and provided as the model variable. This `model` was used to run a forward pass and create the tensor of predictions `pred`. The one-hot encoded tensor is named `target` and the cross entropy loss function is stored as `criterion`.\n",
    "\n",
    "`torch.optim` as `optim`, and `torch.nn` as `nn` have already been loaded for you."
   ]
  },
  {
   "cell_type": "raw",
   "id": "66dba24a-48e6-4c0e-bbbf-aa0e88eb6166",
   "metadata": {},
   "source": [
    "import torch.optim as optim\n",
    "\n",
    "# Create the optimizer\n",
    "optimizer = optim.SGD(model.parameters(), lr=0.001)\n",
    "\n",
    "loss = criterion(output, y)\n",
    "loss.backward()\n",
    "\n",
    "# Update the model's parameters using the optimizer\n",
    "optimizer.step()"
   ]
  },
  {
   "cell_type": "markdown",
   "id": "e90a4fa0-686c-43f4-a0bd-373c754e32f9",
   "metadata": {},
   "source": [
    "## Chapter 3 - Training a Neural Network with PyTorch\n",
    "\n",
    "### Section 3.1 - A deeper dive into loading data"
   ]
  },
  {
   "cell_type": "markdown",
   "id": "1a53aa0b-148b-46e5-b6c7-8b9b807999a6",
   "metadata": {},
   "source": [
    "#### Using TensorDataset\n",
    "\n",
    "Structuring your data into a dataset is one of the first steps in training a PyTorch neural network. `TensorDataset` simplifies this by converting NumPy arrays into a format PyTorch can use.\n",
    "\n",
    "In this exercise, you'll create a `TensorDataset` using the preloaded `animals` dataset and inspect its structure."
   ]
  },
  {
   "cell_type": "code",
   "execution_count": 81,
   "id": "19d6ab43-cfe1-48e1-91e8-72c25abb949b",
   "metadata": {},
   "outputs": [],
   "source": [
    "import pandas as pd\n",
    "\n",
    "data = [['sparrow', 0, 1, 1, 0, 0, 2, 1, 0],\n",
    "       ['eagle', 0, 1, 1, 0, 1, 2, 1, 0],\n",
    "       ['cat', 1, 0, 0, 1, 1, 4, 1, 1],\n",
    "       ['dog', 1, 0, 0, 1, 0, 4, 1, 1],\n",
    "       ['lizard', 0, 0, 1, 0, 1, 4, 1, 2]]\n",
    "\n",
    "columns =['animal_name', 'hair', 'feathers', 'eggs', 'milk', 'predator', 'legs', 'tail', 'type']\n",
    "animals = pd.DataFrame(data=data, columns=columns)"
   ]
  },
  {
   "cell_type": "code",
   "execution_count": 82,
   "id": "fb1cfd2f-6c83-453f-bd75-44e542a31712",
   "metadata": {},
   "outputs": [
    {
     "name": "stdout",
     "output_type": "stream",
     "text": [
      "Input sample: tensor([0, 1, 1, 0, 0, 2, 1])\n",
      "Label sample: tensor(0)\n"
     ]
    }
   ],
   "source": [
    "import torch\n",
    "from torch.utils.data import TensorDataset\n",
    "\n",
    "X = animals.iloc[:, 1:-1].to_numpy()  \n",
    "y = animals.iloc[:, -1].to_numpy()\n",
    "\n",
    "# Create a dataset\n",
    "dataset = TensorDataset(torch.tensor(X), torch.tensor(y))\n",
    "\n",
    "# Print the first sample\n",
    "input_sample, label_sample = dataset[0]\n",
    "print('Input sample:', input_sample)\n",
    "print('Label sample:', label_sample)"
   ]
  },
  {
   "cell_type": "markdown",
   "id": "bcff4741-2a38-4e5a-af96-77815cfe1865",
   "metadata": {},
   "source": [
    "#### Using DataLoader\n",
    "\n",
    "The `DataLoader` class is essential for efficiently handling large datasets. It speeds up training, optimizes memory usage, and stabilizes gradient updates, making deep learning models more effective.\n",
    "\n",
    "Now, you'll create a PyTorch `DataLoader` using the `dataset` from the previous exercise and see it in action."
   ]
  },
  {
   "cell_type": "code",
   "execution_count": 83,
   "id": "455c8b3c-4976-4682-ab3e-4373a0d83492",
   "metadata": {},
   "outputs": [
    {
     "name": "stdout",
     "output_type": "stream",
     "text": [
      "batch_inputs: tensor([[0, 1, 1, 0, 0, 2, 1],\n",
      "        [1, 0, 0, 1, 1, 4, 1]])\n",
      "batch_labels: tensor([0, 1])\n",
      "batch_inputs: tensor([[1, 0, 0, 1, 0, 4, 1],\n",
      "        [0, 0, 1, 0, 1, 4, 1]])\n",
      "batch_labels: tensor([1, 2])\n",
      "batch_inputs: tensor([[0, 1, 1, 0, 1, 2, 1]])\n",
      "batch_labels: tensor([0])\n"
     ]
    }
   ],
   "source": [
    "from torch.utils.data import DataLoader\n",
    "\n",
    "# Create a DataLoader\n",
    "dataloader = DataLoader(dataset, batch_size=2, shuffle=True)\n",
    "\n",
    "# Iterate over the dataloader\n",
    "for batch_inputs, batch_labels in dataloader:\n",
    "    print('batch_inputs:', batch_inputs)\n",
    "    print('batch_labels:', batch_labels)"
   ]
  },
  {
   "cell_type": "markdown",
   "id": "9276356a-81d7-4453-bd8f-825d400c1f3b",
   "metadata": {},
   "source": [
    "### Section 3.2 - Writing our first training loop"
   ]
  },
  {
   "cell_type": "markdown",
   "id": "6f8b2356-511f-4d7c-94a5-e44dc1295128",
   "metadata": {},
   "source": [
    "#### Using the MSELoss\n",
    "\n",
    "For regression problems, you often use Mean Squared Error (MSE) as a loss function instead of cross-entropy. MSE calculates the squared difference between predicted values (`y_pred`) and actual values (`y`). Now, you'll compute MSE loss using both NumPy and PyTorch.\n",
    "\n",
    "`torch`, `numpy` (as `np`), and `torch.nn` (as `nn`) packages are already imported."
   ]
  },
  {
   "cell_type": "code",
   "execution_count": 84,
   "id": "a510534b-1593-475f-ae00-236dc2a6f039",
   "metadata": {},
   "outputs": [
    {
     "name": "stdout",
     "output_type": "stream",
     "text": [
      "MSE (NumPy): 0.375\n",
      "MSE (PyTorch): tensor(0.3750, dtype=torch.float64)\n"
     ]
    }
   ],
   "source": [
    "y_pred = np.array([3, 5.0, 2.5, 7.0])  \n",
    "y = np.array([3.0, 4.5, 2.0, 8.0])     \n",
    "\n",
    "# Calculate MSE using NumPy\n",
    "mse_numpy = np.mean((y-y_pred)**2)\n",
    "\n",
    "# Create the MSELoss function in PyTorch\n",
    "criterion = nn.MSELoss()\n",
    "\n",
    "# Calculate MSE using PyTorch\n",
    "mse_pytorch = criterion(torch.tensor(y_pred),torch.tensor(y))\n",
    "\n",
    "print(\"MSE (NumPy):\", mse_numpy)\n",
    "print(\"MSE (PyTorch):\", mse_pytorch)"
   ]
  },
  {
   "cell_type": "markdown",
   "id": "417a789d-d749-4871-bef6-6089fc331e3a",
   "metadata": {},
   "source": [
    "#### Writing a training loop\n",
    "\n",
    "In `scikit-learn`, the training loop is wrapped in the `.fit()` method, while in PyTorch, it's set up manually. While this adds flexibility, it requires a custom implementation.\n",
    "\n",
    "In this exercise, you'll create a loop to train a model for salary prediction.\n",
    "\n",
    "The `show_results()` function is provided to help you visualize some sample predictions.\n",
    "\n",
    "The package imports provided are: `pandas` as `pd`, `torch`, `torch.nn` as `nn`, `torch.optim` as `optim`, as well as `DataLoader` and `TensorDataset` from `torch.utils.data`.\n",
    "\n",
    "The following variables have been created: num_epochs, containing the number of epochs (set to 5); dataloader, containing the dataloader; model, containing the neural network; criterion, containing the loss function, nn.MSELoss(); optimizer, containing the SGD optimizer."
   ]
  },
  {
   "cell_type": "code",
   "execution_count": 89,
   "id": "ac452224-177a-4050-9c58-37a382fbf9da",
   "metadata": {},
   "outputs": [],
   "source": [
    "model = nn.Sequential(\n",
    "    nn.Linear(4, 2),\n",
    "    nn.Sigmoid(),\n",
    "    nn.Linear(2, 1))"
   ]
  },
  {
   "cell_type": "code",
   "execution_count": 88,
   "id": "75cc7063-f2cc-4017-ab44-0244f825e1c3",
   "metadata": {},
   "outputs": [],
   "source": [
    "num_epochs = 5"
   ]
  },
  {
   "cell_type": "code",
   "execution_count": 103,
   "id": "a5d8d4ae-1de5-478d-91a7-d05a3164c8fd",
   "metadata": {},
   "outputs": [],
   "source": [
    "import torch\n",
    "from torch.utils.data import TensorDataset\n",
    "from torch.utils.data import DataLoader\n",
    "import torch.nn as nn\n",
    "import torch.optim as optim\n",
    "\n",
    "X = animals.iloc[:, 1:-1].to_numpy()  \n",
    "y = animals.iloc[:, -1].to_numpy()\n",
    "\n",
    "# Create a dataset\n",
    "dataset = TensorDataset(torch.tensor(X).float(), torch.tensor(y).float())\n",
    "\n",
    "# Create a DataLoader\n",
    "dataloader = DataLoader(dataset, batch_size=2, shuffle=True)\n",
    "\n",
    "criterion = nn.MSELoss()\n",
    "optimier = optim.SGD(model.parameters(), lr=0.001)"
   ]
  },
  {
   "cell_type": "code",
   "execution_count": 104,
   "id": "ac9a90ad-2290-4ee8-a1b6-33cc78ecda3f",
   "metadata": {},
   "outputs": [],
   "source": [
    "model = nn.Sequential(\n",
    "    nn.Linear(7, 2),\n",
    "    nn.Sigmoid(),\n",
    "    nn.Linear(2, 1))"
   ]
  },
  {
   "cell_type": "code",
   "execution_count": 105,
   "id": "7ab650a2-1357-4c11-8103-b7c88682feb3",
   "metadata": {},
   "outputs": [
    {
     "name": "stderr",
     "output_type": "stream",
     "text": [
      "/home/sacha/.cache/pypoetry/virtualenvs/datacamp-ml-M1zkPQRL-py3.10/lib/python3.10/site-packages/torch/nn/modules/loss.py:610: UserWarning: Using a target size (torch.Size([2])) that is different to the input size (torch.Size([2, 1])). This will likely lead to incorrect results due to broadcasting. Please ensure they have the same size.\n",
      "  return F.mse_loss(input, target, reduction=self.reduction)\n",
      "/home/sacha/.cache/pypoetry/virtualenvs/datacamp-ml-M1zkPQRL-py3.10/lib/python3.10/site-packages/torch/nn/modules/loss.py:610: UserWarning: Using a target size (torch.Size([1])) that is different to the input size (torch.Size([1, 1])). This will likely lead to incorrect results due to broadcasting. Please ensure they have the same size.\n",
      "  return F.mse_loss(input, target, reduction=self.reduction)\n"
     ]
    }
   ],
   "source": [
    "# Loop over the number of epochs and the dataloader\n",
    "for i in range(num_epochs):\n",
    "  for data in dataloader:\n",
    "    # Set the gradients to zero\n",
    "    optimizer.zero_grad()\n",
    "    # Run a forward pass\n",
    "    feature, target = data\n",
    "    prediction = model(feature)    \n",
    "    # Compute the loss\n",
    "    loss = criterion(prediction, target)    \n",
    "    # Compute the gradients\n",
    "    loss.backward()\n",
    "    # Update the model's parameters\n",
    "    optimizer.step()\n",
    "#show_results(model, dataloader)"
   ]
  },
  {
   "cell_type": "markdown",
   "id": "551bdd31-217e-4b71-998d-ed8f47758112",
   "metadata": {},
   "source": [
    "### Section 3.3 - ReLU activation function"
   ]
  },
  {
   "cell_type": "markdown",
   "id": "22773cd3-7375-4c55-92a6-e57919ec3d35",
   "metadata": {},
   "source": [
    "#### Implementing ReLU\n",
    "\n",
    "The Rectified Linear Unit (ReLU) is a widely-used activation function in deep learning, solving challenges like the vanishing gradients problem.\n",
    "\n",
    "In this exercise, you'll implement ReLU in PyTorch, apply it to both positive and negative values, and observe the results.\n",
    "\n",
    "`torch.nn` package has already been imported for you as `nn`."
   ]
  },
  {
   "cell_type": "code",
   "execution_count": 106,
   "id": "3fb68162-89c5-4f3f-b80e-74fc5de1b4bf",
   "metadata": {},
   "outputs": [
    {
     "name": "stdout",
     "output_type": "stream",
     "text": [
      "ReLU applied to positive value: tensor(2.)\n",
      "ReLU applied to negative value: tensor(0.)\n"
     ]
    }
   ],
   "source": [
    "# Create a ReLU function with PyTorch\n",
    "relu_pytorch = nn.ReLU()\n",
    "\n",
    "x_pos = torch.tensor(2.0)\n",
    "x_neg = torch.tensor(-3.0)\n",
    "\n",
    "# Apply the ReLU function to the tensors\n",
    "output_pos = relu_pytorch(x_pos)\n",
    "output_neg = relu_pytorch(x_neg)\n",
    "\n",
    "print(\"ReLU applied to positive value:\", output_pos)\n",
    "print(\"ReLU applied to negative value:\", output_neg)"
   ]
  },
  {
   "cell_type": "markdown",
   "id": "1168f7fc-098d-4adb-9f75-91b9895aad30",
   "metadata": {},
   "source": [
    "#### Implementing leaky ReLU\n",
    "While ReLU is widely used, it sets negative inputs to 0, resulting in null gradients for those values. This can prevent parts of the model from learning.\n",
    "\n",
    "Leaky ReLU overcomes this by allowing small gradients for negative inputs, controlled by the negative_slope parameter. Instead of 0, negative inputs are scaled by this small value, keeping the model's learning active.\n",
    "\n",
    "In this exercise, you will implement the leaky ReLU function in PyTorch and practice using it. torch package as well as the torch.nn as nn have already been imported."
   ]
  },
  {
   "cell_type": "code",
   "execution_count": 107,
   "id": "2bd85380-763d-4481-99ce-d1f76903019f",
   "metadata": {},
   "outputs": [
    {
     "name": "stdout",
     "output_type": "stream",
     "text": [
      "tensor(-0.1000)\n"
     ]
    }
   ],
   "source": [
    "# Create a leaky relu function in PyTorch\n",
    "leaky_relu_pytorch = nn.LeakyReLU(0.05)\n",
    "\n",
    "x = torch.tensor(-2.0)\n",
    "# Call the above function on the tensor x\n",
    "output = leaky_relu_pytorch(x)\n",
    "print(output)"
   ]
  },
  {
   "cell_type": "markdown",
   "id": "d75fc006-6096-42a9-b128-0f1362293797",
   "metadata": {},
   "source": [
    "### Section 3.4 - Learning rate and momentum"
   ]
  },
  {
   "cell_type": "markdown",
   "id": "e69abb01-3ed5-4dcf-93ff-f78ce2a7a37e",
   "metadata": {},
   "source": [
    "#### Experimenting with learning rate\n",
    "\n",
    "In this exercise, your goal is to find the optimal learning rate such that the optimizer can find the minimum of the non-convex function \n",
    " in ten steps.\n",
    "\n",
    "You will experiment with three different learning rate values. For this problem, try learning rate values between 0.001 to 0.1.\n",
    "\n",
    "You are provided with the optimize_and_plot() function that takes the learning rate for the first argument. This function will run 10 steps of the SGD optimizer and display the results."
   ]
  },
  {
   "cell_type": "code",
   "execution_count": 116,
   "id": "df0c79ae-1383-47bb-ba41-d851325da772",
   "metadata": {},
   "outputs": [],
   "source": [
    "import matplotlib.pyplot as plt\n",
    "\n",
    "def function(x):\n",
    "    return x**4 + x**3 - 5*x**2\n",
    "\n",
    "\n",
    "def optimize_and_plot(lr=0.01, momentum=0.0):\n",
    "    x = torch.tensor(2.0, requires_grad=True)\n",
    "    buffer = torch.zeros_like(x.data)\n",
    "    values = []\n",
    "    for i in range(10):\n",
    "        y = function(x)\n",
    "        values.append((x.clone(), y.clone()))\n",
    "        y.backward()\n",
    "\n",
    "        d_p = x.grad.data\n",
    "        if momentum != 0:\n",
    "            buffer.mul_(momentum).add_(d_p)\n",
    "            d_p = buffer\n",
    "\n",
    "        x.data.add_(d_p, alpha=-lr)\n",
    "        x.grad.zero_()\n",
    "\n",
    "    # Prepare numpy arrays for plotting the function curve\n",
    "    x_np = np.arange(-3, 2, 0.001)\n",
    "    # Evaluate function on numpy array -- convert to torch tensor, detach later\n",
    "    y_np = function(torch.tensor(x_np)).detach().numpy()\n",
    "\n",
    "    plt.figure(figsize=(10, 5))\n",
    "    plt.plot([v[0].detach().numpy() for v in values], \n",
    "             [v[1].detach().numpy() for v in values], 'r-X', linewidth=2, markersize=7)\n",
    "    \n",
    "    for i in range(10):\n",
    "        plt.text(values[i][0].item() + 0.1, values[i][1].item(), f'step {i}', fontdict={'color': 'r'})\n",
    "\n",
    "    plt.plot(x_np, y_np, linewidth=2)\n",
    "    plt.grid()\n",
    "    plt.tick_params(axis='both', which='major', labelsize=12)\n",
    "    plt.legend(['Optimizer steps', 'Square function'])\n",
    "    plt.show()"
   ]
  },
  {
   "cell_type": "code",
   "execution_count": 122,
   "id": "4a6bffa6-8df6-4665-b151-09b4c666436d",
   "metadata": {},
   "outputs": [
    {
     "data": {
      "image/png": "[encoded data removed]",
      "text/plain": [
       "<Figure size 1000x500 with 1 Axes>"
      ]
     },
     "metadata": {},
     "output_type": "display_data"
    }
   ],
   "source": [
    "lr0 = 0.0001\n",
    "optimize_and_plot(lr=lr0)"
   ]
  },
  {
   "cell_type": "code",
   "execution_count": 129,
   "id": "113d3f99-ed33-4be2-88be-28a5d6c20482",
   "metadata": {},
   "outputs": [
    {
     "data": {
      "image/png": "[encoded data removed]",
      "text/plain": [
       "<Figure size 1000x500 with 1 Axes>"
      ]
     },
     "metadata": {},
     "output_type": "display_data"
    }
   ],
   "source": [
    "# Try a second learning rate value\n",
    "lr1 = 0.15\n",
    "optimize_and_plot(lr=lr1)"
   ]
  },
  {
   "cell_type": "code",
   "execution_count": 130,
   "id": "7d36b010-40c2-42ec-93dd-4494779aeb7b",
   "metadata": {},
   "outputs": [
    {
     "data": {
      "image/png": "[encoded data removed]",
      "text/plain": [
       "<Figure size 1000x500 with 1 Axes>"
      ]
     },
     "metadata": {},
     "output_type": "display_data"
    }
   ],
   "source": [
    "# Try a third learning rate value\n",
    "lr2 = 0.09\n",
    "optimize_and_plot(lr=lr2)"
   ]
  },
  {
   "cell_type": "markdown",
   "id": "348eb357-682b-40fa-9937-59c98e52c865",
   "metadata": {},
   "source": [
    "#### Experimenting with momentum\n",
    "In this exercise, your goal is to find the optimal momentum such that the optimizer can find the minimum of the following non-convex function \n",
    "$x^4 + x^3 - 5x^2$ in 20 steps. You will experiment with two different momentum values. For this problem, the learning rate is fixed at 0.01.\n",
    "\n",
    "You are provided with the optimize_and_plot() function that accepts as input the momentum parameter. This function will run 20 steps of the SGD optimizer and display the results."
   ]
  },
  {
   "cell_type": "code",
   "execution_count": 117,
   "id": "377792ad-3958-4335-8de4-50cd788c7f02",
   "metadata": {},
   "outputs": [
    {
     "data": {
      "image/png": "[encoded data removed]",
      "text/plain": [
       "<Figure size 1000x500 with 1 Axes>"
      ]
     },
     "metadata": {},
     "output_type": "display_data"
    }
   ],
   "source": [
    "# Try a first value for momentum\n",
    "mom0 = 0.1\n",
    "optimize_and_plot(momentum=mom0)"
   ]
  },
  {
   "cell_type": "code",
   "execution_count": 121,
   "id": "10dcce36-737d-4472-a3d1-f76a6025775d",
   "metadata": {},
   "outputs": [
    {
     "data": {
      "image/png": "[encoded data removed]",
      "text/plain": [
       "<Figure size 1000x500 with 1 Axes>"
      ]
     },
     "metadata": {},
     "output_type": "display_data"
    }
   ],
   "source": [
    "# Try a second value for momentum\n",
    "mom1 = 0.98\n",
    "optimize_and_plot(momentum=mom1)"
   ]
  },
  {
   "cell_type": "markdown",
   "id": "66279e0a-efbf-4b91-9f95-3060c8456afc",
   "metadata": {},
   "source": [
    "## Chapter 4 - Evaluating and improving models"
   ]
  },
  {
   "cell_type": "markdown",
   "id": "f3f98513-1897-4b2c-bc69-b720ff5cb6f5",
   "metadata": {},
   "source": [
    "### Section 4.1 - Layer initialization and transfer learning"
   ]
  },
  {
   "cell_type": "markdown",
   "id": "3ab18e9d-bdef-47bb-ac0c-ddd7d36661c1",
   "metadata": {},
   "source": [
    "#### Freeze layers of a model\n",
    "You are about to fine-tune a model on a new task after loading pre-trained weights. The model contains three linear layers. However, because your dataset is small, you only want to train the last linear layer of this model and freeze the first two linear layers.\n",
    "\n",
    "The model has already been created and exists under the variable model. You will be using the named_parameters method of the model to list the parameters of the model. Each parameter is described by a name. This name is a string with the following naming convention: x.name where x is the index of the layer.\n",
    "\n",
    "Remember that a linear layer has two parameters: the weight and the bias."
   ]
  },
  {
   "cell_type": "code",
   "execution_count": 132,
   "id": "6e87a1f0-8d57-4a99-98de-fd82e317159d",
   "metadata": {},
   "outputs": [],
   "source": [
    "model = nn.Sequential(\n",
    "    nn.Linear(8, 16),\n",
    "    nn.Linear(16,32),\n",
    "    nn.Linear(32, 10))"
   ]
  },
  {
   "cell_type": "code",
   "execution_count": 133,
   "id": "2c9a6b91-13db-4d1c-8e3d-3eef231028e2",
   "metadata": {},
   "outputs": [],
   "source": [
    "for name, param in model.named_parameters():    \n",
    "  \n",
    "    # Check if the parameters belong to the first layer\n",
    "    if name == '0.weight':\n",
    "      \n",
    "        # Freeze the parameters\n",
    "        param.requires_grad = False\n",
    "  \n",
    "    # Check if the parameters belong to the second layer\n",
    "    if name == '1.weight':\n",
    "      \n",
    "        # Freeze the parameters\n",
    "        param.requires_grad = False\n"
   ]
  },
  {
   "cell_type": "code",
   "execution_count": 134,
   "id": "98f5fcda-6817-44ce-8e9e-73eff95193f9",
   "metadata": {},
   "outputs": [
    {
     "name": "stdout",
     "output_type": "stream",
     "text": [
      "0.weight: Frozen\n",
      "0.bias: Trainable\n",
      "1.weight: Frozen\n",
      "1.bias: Trainable\n",
      "2.weight: Trainable\n",
      "2.bias: Trainable\n"
     ]
    }
   ],
   "source": [
    "for name, param in model.named_parameters():\n",
    "    status = \"Trainable\" if param.requires_grad else \"Frozen\"\n",
    "    print(f\"{name}: {status}\")"
   ]
  },
  {
   "cell_type": "markdown",
   "id": "226cd0f3-2d89-4bc5-9d59-62d945fc7497",
   "metadata": {},
   "source": [
    "#### Layer initialization\n",
    "The initialization of the weights of a neural network has been the focus of researchers for many years. When training a network, the method used to initialize the weights has a direct impact on the final performance of the network.\n",
    "\n",
    "As a machine learning practitioner, you should be able to experiment with different initialization strategies. In this exercise, you are creating a small neural network made of two layers and you are deciding to initialize each layer's weights with the uniform method."
   ]
  },
  {
   "cell_type": "code",
   "execution_count": 135,
   "id": "94c4b9f1-8d25-410e-ad93-6153d725da07",
   "metadata": {},
   "outputs": [],
   "source": [
    "layer0 = nn.Linear(16, 32)\n",
    "layer1 = nn.Linear(32, 64)\n",
    "\n",
    "# Use uniform initialization for layer0 and layer1 weights\n",
    "nn.init.uniform_(layer0.weight)\n",
    "nn.init.uniform_(layer1.weight)\n",
    "\n",
    "model = nn.Sequential(layer0, layer1)"
   ]
  },
  {
   "cell_type": "markdown",
   "id": "8287ed20-2ceb-4770-942b-b0f904c40680",
   "metadata": {},
   "source": [
    "### Section 4.2 - Evaluating model performance"
   ]
  },
  {
   "cell_type": "markdown",
   "id": "f0156649-cf05-43f9-ab52-d5caf6bc8c12",
   "metadata": {},
   "source": [
    "#### Writing the evaluation loop\n",
    "In this exercise, you will write an evaluation loop to compute validation loss. The evaluation loop follows a similar structure to the training loop but without gradient calculations or weight updates.\n",
    "\n",
    "`model`, `validationloader`, and loss function `criterion` have already been defined to handle predictions, data loading, and loss calculation.\n",
    "\n",
    "**remark** - I made this a simple train and eval script"
   ]
  },
  {
   "cell_type": "code",
   "execution_count": 43,
   "id": "232bc94b-4901-4479-a99e-08734fcc0761",
   "metadata": {},
   "outputs": [
    {
     "name": "stdout",
     "output_type": "stream",
     "text": [
      "EPOCH 0 - TRAIN LOSS: 0.7012 VALIDATION LOSS: 0.6883\n",
      "EPOCH 1 - TRAIN LOSS: 0.6989 VALIDATION LOSS: 0.6796\n",
      "EPOCH 2 - TRAIN LOSS: 0.6785 VALIDATION LOSS: 0.6774\n",
      "EPOCH 3 - TRAIN LOSS: 0.6757 VALIDATION LOSS: 0.6765\n",
      "EPOCH 4 - TRAIN LOSS: 0.6679 VALIDATION LOSS: 0.6737\n",
      "EPOCH 5 - TRAIN LOSS: 0.6700 VALIDATION LOSS: 0.6723\n",
      "EPOCH 6 - TRAIN LOSS: 0.6664 VALIDATION LOSS: 0.6719\n",
      "EPOCH 7 - TRAIN LOSS: 0.6653 VALIDATION LOSS: 0.6705\n",
      "EPOCH 8 - TRAIN LOSS: 0.6629 VALIDATION LOSS: 0.6682\n",
      "EPOCH 9 - TRAIN LOSS: 0.6647 VALIDATION LOSS: 0.6673\n",
      "EPOCH 10 - TRAIN LOSS: 0.6564 VALIDATION LOSS: 0.6664\n",
      "EPOCH 11 - TRAIN LOSS: 0.6633 VALIDATION LOSS: 0.6649\n",
      "EPOCH 12 - TRAIN LOSS: 0.6620 VALIDATION LOSS: 0.6644\n",
      "EPOCH 13 - TRAIN LOSS: 0.6643 VALIDATION LOSS: 0.6628\n",
      "EPOCH 14 - TRAIN LOSS: 0.6561 VALIDATION LOSS: 0.6630\n",
      "EPOCH 15 - TRAIN LOSS: 0.6630 VALIDATION LOSS: 0.6636\n",
      "EPOCH 16 - TRAIN LOSS: 0.6623 VALIDATION LOSS: 0.6615\n",
      "EPOCH 17 - TRAIN LOSS: 0.6539 VALIDATION LOSS: 0.6601\n",
      "EPOCH 18 - TRAIN LOSS: 0.6590 VALIDATION LOSS: 0.6587\n",
      "EPOCH 19 - TRAIN LOSS: 0.6533 VALIDATION LOSS: 0.6575\n",
      "EPOCH 20 - TRAIN LOSS: 0.6593 VALIDATION LOSS: 0.6567\n",
      "EPOCH 21 - TRAIN LOSS: 0.6597 VALIDATION LOSS: 0.6562\n",
      "EPOCH 22 - TRAIN LOSS: 0.6582 VALIDATION LOSS: 0.6564\n",
      "EPOCH 23 - TRAIN LOSS: 0.6499 VALIDATION LOSS: 0.6553\n",
      "EPOCH 24 - TRAIN LOSS: 0.6501 VALIDATION LOSS: 0.6542\n",
      "EPOCH 25 - TRAIN LOSS: 0.6529 VALIDATION LOSS: 0.6512\n",
      "EPOCH 26 - TRAIN LOSS: 0.6539 VALIDATION LOSS: 0.6528\n",
      "EPOCH 27 - TRAIN LOSS: 0.6528 VALIDATION LOSS: 0.6514\n",
      "EPOCH 28 - TRAIN LOSS: 0.6490 VALIDATION LOSS: 0.6516\n",
      "EPOCH 29 - TRAIN LOSS: 0.6470 VALIDATION LOSS: 0.6491\n",
      "EPOCH 30 - TRAIN LOSS: 0.6472 VALIDATION LOSS: 0.6492\n",
      "EPOCH 31 - TRAIN LOSS: 0.6434 VALIDATION LOSS: 0.6483\n",
      "EPOCH 32 - TRAIN LOSS: 0.6459 VALIDATION LOSS: 0.6457\n",
      "EPOCH 33 - TRAIN LOSS: 0.6454 VALIDATION LOSS: 0.6441\n",
      "EPOCH 34 - TRAIN LOSS: 0.6443 VALIDATION LOSS: 0.6422\n",
      "EPOCH 35 - TRAIN LOSS: 0.6324 VALIDATION LOSS: 0.6412\n",
      "EPOCH 36 - TRAIN LOSS: 0.6449 VALIDATION LOSS: 0.6406\n",
      "EPOCH 37 - TRAIN LOSS: 0.6439 VALIDATION LOSS: 0.6412\n",
      "EPOCH 38 - TRAIN LOSS: 0.6315 VALIDATION LOSS: 0.6393\n",
      "EPOCH 39 - TRAIN LOSS: 0.6319 VALIDATION LOSS: 0.6364\n",
      "EPOCH 40 - TRAIN LOSS: 0.6384 VALIDATION LOSS: 0.6356\n",
      "EPOCH 41 - TRAIN LOSS: 0.6422 VALIDATION LOSS: 0.6358\n",
      "EPOCH 42 - TRAIN LOSS: 0.6312 VALIDATION LOSS: 0.6327\n",
      "EPOCH 43 - TRAIN LOSS: 0.6419 VALIDATION LOSS: 0.6303\n",
      "EPOCH 44 - TRAIN LOSS: 0.6304 VALIDATION LOSS: 0.6310\n",
      "EPOCH 45 - TRAIN LOSS: 0.6341 VALIDATION LOSS: 0.6298\n",
      "EPOCH 46 - TRAIN LOSS: 0.6244 VALIDATION LOSS: 0.6295\n",
      "EPOCH 47 - TRAIN LOSS: 0.6228 VALIDATION LOSS: 0.6267\n",
      "EPOCH 48 - TRAIN LOSS: 0.6230 VALIDATION LOSS: 0.6253\n",
      "EPOCH 49 - TRAIN LOSS: 0.6185 VALIDATION LOSS: 0.6245\n",
      "EPOCH 50 - TRAIN LOSS: 0.6231 VALIDATION LOSS: 0.6213\n",
      "EPOCH 51 - TRAIN LOSS: 0.6350 VALIDATION LOSS: 0.6198\n",
      "EPOCH 52 - TRAIN LOSS: 0.6212 VALIDATION LOSS: 0.6185\n",
      "EPOCH 53 - TRAIN LOSS: 0.6270 VALIDATION LOSS: 0.6194\n",
      "EPOCH 54 - TRAIN LOSS: 0.6244 VALIDATION LOSS: 0.6193\n",
      "EPOCH 55 - TRAIN LOSS: 0.6159 VALIDATION LOSS: 0.6191\n",
      "EPOCH 56 - TRAIN LOSS: 0.6289 VALIDATION LOSS: 0.6190\n",
      "EPOCH 57 - TRAIN LOSS: 0.6185 VALIDATION LOSS: 0.6197\n",
      "EPOCH 58 - TRAIN LOSS: 0.6245 VALIDATION LOSS: 0.6187\n",
      "EPOCH 59 - TRAIN LOSS: 0.6212 VALIDATION LOSS: 0.6179\n",
      "EPOCH 60 - TRAIN LOSS: 0.6299 VALIDATION LOSS: 0.6169\n",
      "EPOCH 61 - TRAIN LOSS: 0.6263 VALIDATION LOSS: 0.6154\n",
      "EPOCH 62 - TRAIN LOSS: 0.6179 VALIDATION LOSS: 0.6146\n",
      "EPOCH 63 - TRAIN LOSS: 0.6201 VALIDATION LOSS: 0.6154\n",
      "EPOCH 64 - TRAIN LOSS: 0.6080 VALIDATION LOSS: 0.6136\n",
      "EPOCH 65 - TRAIN LOSS: 0.6106 VALIDATION LOSS: 0.6124\n",
      "EPOCH 66 - TRAIN LOSS: 0.6183 VALIDATION LOSS: 0.6114\n",
      "EPOCH 67 - TRAIN LOSS: 0.6158 VALIDATION LOSS: 0.6118\n",
      "EPOCH 68 - TRAIN LOSS: 0.6230 VALIDATION LOSS: 0.6113\n",
      "EPOCH 69 - TRAIN LOSS: 0.6094 VALIDATION LOSS: 0.6103\n",
      "EPOCH 70 - TRAIN LOSS: 0.6224 VALIDATION LOSS: 0.6108\n",
      "EPOCH 71 - TRAIN LOSS: 0.6091 VALIDATION LOSS: 0.6103\n",
      "EPOCH 72 - TRAIN LOSS: 0.6142 VALIDATION LOSS: 0.6096\n",
      "EPOCH 73 - TRAIN LOSS: 0.6182 VALIDATION LOSS: 0.6116\n",
      "EPOCH 74 - TRAIN LOSS: 0.6252 VALIDATION LOSS: 0.6113\n",
      "EPOCH 75 - TRAIN LOSS: 0.6014 VALIDATION LOSS: 0.6104\n",
      "EPOCH 76 - TRAIN LOSS: 0.6094 VALIDATION LOSS: 0.6099\n",
      "EPOCH 77 - TRAIN LOSS: 0.6146 VALIDATION LOSS: 0.6097\n",
      "EPOCH 78 - TRAIN LOSS: 0.6125 VALIDATION LOSS: 0.6096\n",
      "EPOCH 79 - TRAIN LOSS: 0.6210 VALIDATION LOSS: 0.6097\n",
      "EPOCH 80 - TRAIN LOSS: 0.6115 VALIDATION LOSS: 0.6082\n",
      "EPOCH 81 - TRAIN LOSS: 0.5963 VALIDATION LOSS: 0.6070\n",
      "EPOCH 82 - TRAIN LOSS: 0.6071 VALIDATION LOSS: 0.6074\n",
      "EPOCH 83 - TRAIN LOSS: 0.6125 VALIDATION LOSS: 0.6065\n",
      "EPOCH 84 - TRAIN LOSS: 0.6098 VALIDATION LOSS: 0.6062\n",
      "EPOCH 85 - TRAIN LOSS: 0.6210 VALIDATION LOSS: 0.6061\n",
      "EPOCH 86 - TRAIN LOSS: 0.6114 VALIDATION LOSS: 0.6053\n",
      "EPOCH 87 - TRAIN LOSS: 0.6108 VALIDATION LOSS: 0.6047\n",
      "EPOCH 88 - TRAIN LOSS: 0.6085 VALIDATION LOSS: 0.6044\n",
      "EPOCH 89 - TRAIN LOSS: 0.6068 VALIDATION LOSS: 0.6047\n",
      "EPOCH 90 - TRAIN LOSS: 0.6015 VALIDATION LOSS: 0.6061\n",
      "EPOCH 91 - TRAIN LOSS: 0.6079 VALIDATION LOSS: 0.6064\n",
      "EPOCH 92 - TRAIN LOSS: 0.6156 VALIDATION LOSS: 0.6037\n",
      "EPOCH 93 - TRAIN LOSS: 0.6124 VALIDATION LOSS: 0.6044\n",
      "EPOCH 94 - TRAIN LOSS: 0.6120 VALIDATION LOSS: 0.6043\n",
      "EPOCH 95 - TRAIN LOSS: 0.6075 VALIDATION LOSS: 0.6040\n",
      "EPOCH 96 - TRAIN LOSS: 0.6045 VALIDATION LOSS: 0.6028\n",
      "EPOCH 97 - TRAIN LOSS: 0.6073 VALIDATION LOSS: 0.6023\n",
      "EPOCH 98 - TRAIN LOSS: 0.6057 VALIDATION LOSS: 0.6035\n",
      "EPOCH 99 - TRAIN LOSS: 0.6112 VALIDATION LOSS: 0.6032\n",
      "EPOCH 100 - TRAIN LOSS: 0.6099 VALIDATION LOSS: 0.6027\n",
      "EPOCH 101 - TRAIN LOSS: 0.5935 VALIDATION LOSS: 0.6008\n",
      "EPOCH 102 - TRAIN LOSS: 0.6043 VALIDATION LOSS: 0.5999\n",
      "EPOCH 103 - TRAIN LOSS: 0.6055 VALIDATION LOSS: 0.6006\n",
      "EPOCH 104 - TRAIN LOSS: 0.6021 VALIDATION LOSS: 0.5993\n",
      "EPOCH 105 - TRAIN LOSS: 0.6101 VALIDATION LOSS: 0.5999\n",
      "EPOCH 106 - TRAIN LOSS: 0.6060 VALIDATION LOSS: 0.6010\n",
      "EPOCH 107 - TRAIN LOSS: 0.6088 VALIDATION LOSS: 0.6005\n",
      "EPOCH 108 - TRAIN LOSS: 0.6026 VALIDATION LOSS: 0.6006\n",
      "EPOCH 109 - TRAIN LOSS: 0.5911 VALIDATION LOSS: 0.5993\n",
      "EPOCH 110 - TRAIN LOSS: 0.6238 VALIDATION LOSS: 0.5993\n",
      "EPOCH 111 - TRAIN LOSS: 0.6105 VALIDATION LOSS: 0.5996\n",
      "EPOCH 112 - TRAIN LOSS: 0.6072 VALIDATION LOSS: 0.6023\n",
      "EPOCH 113 - TRAIN LOSS: 0.6076 VALIDATION LOSS: 0.6012\n",
      "EPOCH 114 - TRAIN LOSS: 0.6083 VALIDATION LOSS: 0.6006\n",
      "EPOCH 115 - TRAIN LOSS: 0.6000 VALIDATION LOSS: 0.6019\n",
      "EPOCH 116 - TRAIN LOSS: 0.6064 VALIDATION LOSS: 0.6019\n",
      "EPOCH 117 - TRAIN LOSS: 0.6038 VALIDATION LOSS: 0.6007\n",
      "EPOCH 118 - TRAIN LOSS: 0.6119 VALIDATION LOSS: 0.6001\n",
      "EPOCH 119 - TRAIN LOSS: 0.6097 VALIDATION LOSS: 0.6000\n",
      "EPOCH 120 - TRAIN LOSS: 0.6111 VALIDATION LOSS: 0.6001\n",
      "EPOCH 121 - TRAIN LOSS: 0.6112 VALIDATION LOSS: 0.5994\n",
      "EPOCH 122 - TRAIN LOSS: 0.6136 VALIDATION LOSS: 0.6007\n",
      "EPOCH 123 - TRAIN LOSS: 0.5945 VALIDATION LOSS: 0.6001\n",
      "EPOCH 124 - TRAIN LOSS: 0.6047 VALIDATION LOSS: 0.6001\n",
      "EPOCH 125 - TRAIN LOSS: 0.6043 VALIDATION LOSS: 0.5996\n",
      "EPOCH 126 - TRAIN LOSS: 0.6130 VALIDATION LOSS: 0.6004\n",
      "EPOCH 127 - TRAIN LOSS: 0.5980 VALIDATION LOSS: 0.5996\n",
      "EPOCH 128 - TRAIN LOSS: 0.5896 VALIDATION LOSS: 0.6000\n",
      "EPOCH 129 - TRAIN LOSS: 0.5931 VALIDATION LOSS: 0.5995\n",
      "EPOCH 130 - TRAIN LOSS: 0.5956 VALIDATION LOSS: 0.5972\n",
      "EPOCH 131 - TRAIN LOSS: 0.6164 VALIDATION LOSS: 0.5973\n",
      "EPOCH 132 - TRAIN LOSS: 0.6094 VALIDATION LOSS: 0.5993\n",
      "EPOCH 133 - TRAIN LOSS: 0.5979 VALIDATION LOSS: 0.5988\n",
      "EPOCH 134 - TRAIN LOSS: 0.6040 VALIDATION LOSS: 0.5988\n",
      "EPOCH 135 - TRAIN LOSS: 0.6209 VALIDATION LOSS: 0.5996\n",
      "EPOCH 136 - TRAIN LOSS: 0.5944 VALIDATION LOSS: 0.5977\n",
      "EPOCH 137 - TRAIN LOSS: 0.6063 VALIDATION LOSS: 0.5978\n",
      "EPOCH 138 - TRAIN LOSS: 0.6015 VALIDATION LOSS: 0.5983\n",
      "EPOCH 139 - TRAIN LOSS: 0.6016 VALIDATION LOSS: 0.5972\n",
      "EPOCH 140 - TRAIN LOSS: 0.6054 VALIDATION LOSS: 0.5964\n",
      "EPOCH 141 - TRAIN LOSS: 0.6060 VALIDATION LOSS: 0.5980\n",
      "EPOCH 142 - TRAIN LOSS: 0.6034 VALIDATION LOSS: 0.5966\n",
      "EPOCH 143 - TRAIN LOSS: 0.6052 VALIDATION LOSS: 0.5965\n",
      "EPOCH 144 - TRAIN LOSS: 0.6253 VALIDATION LOSS: 0.5978\n",
      "EPOCH 145 - TRAIN LOSS: 0.6118 VALIDATION LOSS: 0.5996\n",
      "EPOCH 146 - TRAIN LOSS: 0.6162 VALIDATION LOSS: 0.5995\n",
      "EPOCH 147 - TRAIN LOSS: 0.5954 VALIDATION LOSS: 0.5989\n",
      "EPOCH 148 - TRAIN LOSS: 0.6087 VALIDATION LOSS: 0.5976\n",
      "EPOCH 149 - TRAIN LOSS: 0.6077 VALIDATION LOSS: 0.5972\n",
      "EPOCH 150 - TRAIN LOSS: 0.6020 VALIDATION LOSS: 0.6004\n",
      "EPOCH 151 - TRAIN LOSS: 0.5997 VALIDATION LOSS: 0.5996\n",
      "EPOCH 152 - TRAIN LOSS: 0.5960 VALIDATION LOSS: 0.5995\n",
      "EPOCH 153 - TRAIN LOSS: 0.5953 VALIDATION LOSS: 0.6011\n",
      "EPOCH 154 - TRAIN LOSS: 0.5972 VALIDATION LOSS: 0.5991\n",
      "EPOCH 155 - TRAIN LOSS: 0.6053 VALIDATION LOSS: 0.5961\n",
      "EPOCH 156 - TRAIN LOSS: 0.6055 VALIDATION LOSS: 0.5968\n",
      "EPOCH 157 - TRAIN LOSS: 0.6121 VALIDATION LOSS: 0.5975\n",
      "EPOCH 158 - TRAIN LOSS: 0.6057 VALIDATION LOSS: 0.5978\n",
      "EPOCH 159 - TRAIN LOSS: 0.6054 VALIDATION LOSS: 0.5970\n",
      "EPOCH 160 - TRAIN LOSS: 0.5956 VALIDATION LOSS: 0.5967\n",
      "EPOCH 161 - TRAIN LOSS: 0.6036 VALIDATION LOSS: 0.5974\n",
      "EPOCH 162 - TRAIN LOSS: 0.5960 VALIDATION LOSS: 0.5966\n",
      "EPOCH 163 - TRAIN LOSS: 0.6089 VALIDATION LOSS: 0.5982\n",
      "EPOCH 164 - TRAIN LOSS: 0.5873 VALIDATION LOSS: 0.5966\n",
      "EPOCH 165 - TRAIN LOSS: 0.6045 VALIDATION LOSS: 0.5962\n",
      "EPOCH 166 - TRAIN LOSS: 0.6092 VALIDATION LOSS: 0.5949\n",
      "EPOCH 167 - TRAIN LOSS: 0.5973 VALIDATION LOSS: 0.5951\n",
      "EPOCH 168 - TRAIN LOSS: 0.5979 VALIDATION LOSS: 0.5953\n",
      "EPOCH 169 - TRAIN LOSS: 0.5983 VALIDATION LOSS: 0.5949\n",
      "EPOCH 170 - TRAIN LOSS: 0.6024 VALIDATION LOSS: 0.5949\n",
      "EPOCH 171 - TRAIN LOSS: 0.6080 VALIDATION LOSS: 0.5957\n",
      "EPOCH 172 - TRAIN LOSS: 0.5995 VALIDATION LOSS: 0.5938\n",
      "EPOCH 173 - TRAIN LOSS: 0.5967 VALIDATION LOSS: 0.5950\n",
      "EPOCH 174 - TRAIN LOSS: 0.5907 VALIDATION LOSS: 0.5963\n",
      "EPOCH 175 - TRAIN LOSS: 0.6108 VALIDATION LOSS: 0.5954\n",
      "EPOCH 176 - TRAIN LOSS: 0.6112 VALIDATION LOSS: 0.5956\n",
      "EPOCH 177 - TRAIN LOSS: 0.6021 VALIDATION LOSS: 0.5963\n",
      "EPOCH 178 - TRAIN LOSS: 0.6064 VALIDATION LOSS: 0.5981\n",
      "EPOCH 179 - TRAIN LOSS: 0.6020 VALIDATION LOSS: 0.5985\n",
      "EPOCH 180 - TRAIN LOSS: 0.5918 VALIDATION LOSS: 0.5956\n",
      "EPOCH 181 - TRAIN LOSS: 0.5970 VALIDATION LOSS: 0.5951\n",
      "EPOCH 182 - TRAIN LOSS: 0.6056 VALIDATION LOSS: 0.5964\n",
      "EPOCH 183 - TRAIN LOSS: 0.6067 VALIDATION LOSS: 0.5962\n",
      "EPOCH 184 - TRAIN LOSS: 0.6051 VALIDATION LOSS: 0.5963\n",
      "EPOCH 185 - TRAIN LOSS: 0.6141 VALIDATION LOSS: 0.5961\n",
      "EPOCH 186 - TRAIN LOSS: 0.5819 VALIDATION LOSS: 0.5948\n",
      "EPOCH 187 - TRAIN LOSS: 0.6041 VALIDATION LOSS: 0.5954\n",
      "EPOCH 188 - TRAIN LOSS: 0.5976 VALIDATION LOSS: 0.5944\n",
      "EPOCH 189 - TRAIN LOSS: 0.6066 VALIDATION LOSS: 0.5946\n",
      "EPOCH 190 - TRAIN LOSS: 0.6057 VALIDATION LOSS: 0.5963\n",
      "EPOCH 191 - TRAIN LOSS: 0.6077 VALIDATION LOSS: 0.5967\n",
      "EPOCH 192 - TRAIN LOSS: 0.5962 VALIDATION LOSS: 0.5969\n",
      "EPOCH 193 - TRAIN LOSS: 0.6010 VALIDATION LOSS: 0.5945\n",
      "EPOCH 194 - TRAIN LOSS: 0.6024 VALIDATION LOSS: 0.5934\n",
      "EPOCH 195 - TRAIN LOSS: 0.6001 VALIDATION LOSS: 0.5941\n",
      "EPOCH 196 - TRAIN LOSS: 0.5992 VALIDATION LOSS: 0.5955\n",
      "EPOCH 197 - TRAIN LOSS: 0.5912 VALIDATION LOSS: 0.5953\n",
      "EPOCH 198 - TRAIN LOSS: 0.5929 VALIDATION LOSS: 0.5954\n",
      "EPOCH 199 - TRAIN LOSS: 0.5900 VALIDATION LOSS: 0.5949\n"
     ]
    }
   ],
   "source": [
    "import pandas as pd\n",
    "import torch\n",
    "import torch.nn as nn\n",
    "import torch.optim as optim\n",
    "from torch.utils.data import TensorDataset, DataLoader\n",
    "from sklearn.model_selection import train_test_split\n",
    "from sklearn.preprocessing import StandardScaler\n",
    "\n",
    "# Constants\n",
    "NUM_EPOCHS = 200\n",
    "LEARNING_RATE = 0.005  # reduced\n",
    "MOMENTUM = 0.9\n",
    "\n",
    "# Load data\n",
    "df = pd.read_csv('water_potability.csv').dropna()  # optional: remove NaNs\n",
    "X = df.iloc[:, :-1].values\n",
    "y = df.iloc[:, -1].astype(int).values  # Convert labels to int\n",
    "\n",
    "# Normalize features\n",
    "scaler = StandardScaler()\n",
    "X = scaler.fit_transform(X)\n",
    "\n",
    "# Split\n",
    "X_train, X_test, y_train, y_test = train_test_split(X, y, test_size=0.2, random_state=54)\n",
    "\n",
    "# DataLoaders\n",
    "train_dataset = TensorDataset(torch.tensor(X_train).float(), torch.tensor(y_train).long())\n",
    "trainloader = DataLoader(train_dataset, batch_size=64, shuffle=True)\n",
    "\n",
    "test_dataset = TensorDataset(torch.tensor(X_test).float(), torch.tensor(y_test).long())\n",
    "testloader = DataLoader(test_dataset, batch_size=64, shuffle=False)\n",
    "\n",
    "# Model\n",
    "model = nn.Sequential(\n",
    "    nn.Linear(9, 30),\n",
    "    nn.ReLU(),\n",
    "    nn.Dropout(p=0.5),\n",
    "    nn.Linear(30, 2),\n",
    "    #nn.ReLU(),\n",
    "    #nn.Dropout(p=0.5),\n",
    "    #nn.Linear(15,2)\n",
    ")\n",
    "\n",
    "criterion = nn.CrossEntropyLoss()\n",
    "optimizer = optim.SGD(model.parameters(), lr=LEARNING_RATE, momentum=MOMENTUM, weight_decay=0.0001)\n",
    "\n",
    "# Training loop\n",
    "for epoch in range(NUM_EPOCHS):\n",
    "    # set model to train mode\n",
    "    model.train()\n",
    "\n",
    "    # initiate epoch loss\n",
    "    train_epoch_loss = 0.0\n",
    "    \n",
    "    for features, labels in trainloader:\n",
    "        optimizer.zero_grad()  # Reset gradients\n",
    "        logits = model(features)\n",
    "        loss = criterion(logits, labels)\n",
    "        loss.backward()\n",
    "        optimizer.step()\n",
    "        train_epoch_loss += loss.item()\n",
    "    print(f\"EPOCH {epoch} - TRAIN LOSS: {train_epoch_loss / len(trainloader):.4f} \", end=\"\")\n",
    "\n",
    "    # turns off things lke dropout.\n",
    "    model.eval()\n",
    "\n",
    "    val_epoch_loss = 0\n",
    "    with torch.no_grad():\n",
    "        for features, labels in testloader:\n",
    "            logits = model(features)\n",
    "            loss = criterion(logits, labels)\n",
    "            val_epoch_loss += loss.item()\n",
    "    print(f\"VALIDATION LOSS: {val_epoch_loss / len(testloader):.4f}\")\n"
   ]
  },
  {
   "cell_type": "markdown",
   "id": "f92cb160-596d-481d-864b-e3447933e642",
   "metadata": {},
   "source": [
    "#### Calculating accuracy using torchmetrics\n",
    "Tracking accuracy during training helps identify the best-performing epoch.\n",
    "\n",
    "In this exercise, you'll use `torchmetrics` to calculate accuracy on a facemask dataset with three classes. The `plot_errors` function will highlight misclassified samples, helping you analyze model errors.\n",
    "\n",
    "`torchmetrics` package is already imported. Model `outputs` are softmax probabilities, and `labels` are one-hot encoded vectors."
   ]
  },
  {
   "cell_type": "code",
   "execution_count": 44,
   "id": "a872168f-eb52-429c-b55f-907612846920",
   "metadata": {},
   "outputs": [
    {
     "name": "stdout",
     "output_type": "stream",
     "text": [
      "Accuracy on all data: 0.6823821067810059\n"
     ]
    }
   ],
   "source": [
    "import torchmetrics\n",
    "\n",
    "# Create accuracy metric\n",
    "metric = torchmetrics.Accuracy(task=\"multiclass\", num_classes=2)\n",
    "for features, labels in testloader:\n",
    "    \n",
    "    # output is shape (batch_size,2)\n",
    "    outputs = model(features)\n",
    "    \n",
    "    # Calculate accuracy over the batch\n",
    "    # labels is (batch_size) filled with 0 or 1\n",
    "    metric.update(outputs, labels)\n",
    "    \n",
    "# Calculate accuracy over the whole epoch\n",
    "accuracy = metric.compute()\n",
    "print(f\"Accuracy on all data: {accuracy}\")\n",
    "\n",
    "# Reset metric for the next epoch\n",
    "metric.reset()\n",
    "#plot_errors(model, dataloader)"
   ]
  },
  {
   "cell_type": "markdown",
   "id": "30a05ae6-c961-405e-b767-7600bbd2e411",
   "metadata": {},
   "source": [
    "### Section 4.3 - Fighting overfitting"
   ]
  },
  {
   "cell_type": "markdown",
   "id": "670a1487-2af7-44cb-9e5d-2df44c366389",
   "metadata": {},
   "source": [
    "#### Experimenting with dropout\n",
    "\n",
    "Dropout helps prevent overfitting by randomly setting some output values to zero during training. In this exercise, you'll build a simple neural network with dropout and observe how it behaves in training and evaluation modes.\n",
    "\n",
    "`torch.nn` package is preloaded as `nn`, and `features` is already defined for you."
   ]
  },
  {
   "cell_type": "code",
   "execution_count": 48,
   "id": "216e924d-a08b-4e61-887c-f045f9c16c26",
   "metadata": {},
   "outputs": [
    {
     "name": "stdout",
     "output_type": "stream",
     "text": [
      "Output in train mode: tensor([[-1.0575,  0.3678, -0.0442,  0.0000],\n",
      "        [-0.4058,  0.0000,  0.0000,  1.1846],\n",
      "        [-0.0000, -0.3238,  0.0468,  1.9877],\n",
      "        [ 0.4842,  0.1343, -0.0000,  0.0000],\n",
      "        [-0.0000, -0.0000,  0.4214,  0.0000],\n",
      "        [ 0.5547, -0.0000, -0.0000,  1.3052],\n",
      "        [-0.0000, -2.4787,  1.3322,  0.0000],\n",
      "        [-0.0000, -0.0000,  0.0000,  0.0000],\n",
      "        [-0.0000, -0.0000,  0.0000,  0.0000],\n",
      "        [-0.3451, -0.0000,  1.3547,  1.8058],\n",
      "        [-0.0000, -1.0029,  0.0000,  0.0000],\n",
      "        [-0.5892, -0.0000,  1.6090,  0.0000],\n",
      "        [-0.3559, -0.9414,  0.6365,  0.0000],\n",
      "        [-0.0000, -0.0000,  0.0000,  0.0000],\n",
      "        [-0.0000, -0.9332, -0.0000,  1.0375],\n",
      "        [-1.0057, -0.8871,  0.0000,  0.0000],\n",
      "        [-0.0352, -0.0000, -0.0000,  0.0000],\n",
      "        [-0.0000, -0.0000,  0.8244,  0.0000],\n",
      "        [-0.3632,  0.1114, -0.0000,  0.0000]], grad_fn=<MulBackward0>)\n",
      "Output in eval mode: tensor([[-0.5288,  0.1839, -0.0221,  0.6331],\n",
      "        [-0.2029,  0.1184,  0.0047,  0.5923],\n",
      "        [-0.2950, -0.1619,  0.0234,  0.9938],\n",
      "        [ 0.2421,  0.0671, -0.3081,  0.4532],\n",
      "        [-0.2909, -0.0558,  0.2107,  0.7479],\n",
      "        [ 0.2774, -1.1658, -0.4624,  0.6526],\n",
      "        [-0.5662, -1.2393,  0.6661,  1.0711],\n",
      "        [-0.0669, -0.3313,  0.0072,  0.6659],\n",
      "        [-0.1301, -0.6103,  0.2769,  0.9735],\n",
      "        [-0.1726, -0.6948,  0.6774,  0.9029],\n",
      "        [-0.4178, -0.5015,  0.1105,  0.9598],\n",
      "        [-0.2946, -0.6481,  0.8045,  0.6885],\n",
      "        [-0.1779, -0.4707,  0.3182,  1.1786],\n",
      "        [-0.0852, -0.8654,  0.1313,  1.1461],\n",
      "        [-0.3814, -0.4666, -0.3587,  0.5188],\n",
      "        [-0.5029, -0.4436,  0.6895,  1.2676],\n",
      "        [-0.0176, -0.9421, -0.2230,  0.8230],\n",
      "        [-0.4745, -0.2265,  0.4122,  0.5818],\n",
      "        [-0.1816,  0.0557, -0.2738,  0.5878]], grad_fn=<AddmmBackward0>)\n"
     ]
    }
   ],
   "source": [
    "model = nn.Sequential(\n",
    "    nn.Linear(9, 6),\n",
    "    nn.Linear(6, 4),\n",
    "    nn.Dropout(p=0.5))\n",
    "\n",
    "model.train()\n",
    "output_train = model(features)\n",
    "\n",
    "# Forward pass in evaluation mode (Dropout disabled)\n",
    "model.eval()\n",
    "output_eval = model(features)\n",
    "\n",
    "# Print results\n",
    "print(\"Output in train mode:\", output_train)\n",
    "print(\"Output in eval mode:\", output_eval)"
   ]
  },
  {
   "cell_type": "markdown",
   "id": "a43f6efd-dc24-4d4e-90be-50b4374535f7",
   "metadata": {},
   "source": [
    "### Section 4.4 - Improving model performance"
   ]
  },
  {
   "cell_type": "code",
   "execution_count": 53,
   "id": "e0b8d2eb-763e-4af3-853f-a22f2af4065b",
   "metadata": {},
   "outputs": [],
   "source": [
    "import numpy as np\n",
    "import matplotlib.pyplot as plt\n",
    "\n",
    "def plot_hyperparameter_search(values):\n",
    "    lrs, momentums = zip(*values)\n",
    "\n",
    "    plt.figure(figsize=(8, 6))\n",
    "    plt.scatter(lrs, momentums)\n",
    "    plt.xscale(\"log\")  # Use log scale for learning rate\n",
    "    plt.xlabel(\"Learning Rate\")\n",
    "    plt.ylabel(\"Momentum\")\n",
    "    # plt.title(\"Randomly Sampled Learning Rates and Momentum\")\n",
    "    plt.grid(True, which=\"both\", linestyle=\"--\", linewidth=0.5)\n",
    "\n",
    "    # Set specific tick marks on the x-axis\n",
    "    plt.xticks([10**-2, 10**-3, 10**-4], \n",
    "               [r'$10^{-2}$', r'$10^{-3}$', r'$10^{-4}$'])\n",
    "\n",
    "    plt.show()"
   ]
  },
  {
   "cell_type": "code",
   "execution_count": 54,
   "id": "fcd813f1-f155-4058-b213-0e69d03486de",
   "metadata": {},
   "outputs": [
    {
     "data": {
      "image/png": "[encoded data removed]",
      "text/plain": [
       "<Figure size 800x600 with 1 Axes>"
      ]
     },
     "metadata": {},
     "output_type": "display_data"
    }
   ],
   "source": [
    "values = []\n",
    "for idx in range(10):\n",
    "    # Randomly sample a learning rate factor between 2 and 4\n",
    "    factor = np.random.uniform(2,4)\n",
    "    lr = 10 ** -factor\n",
    "    \n",
    "    # Randomly select a momentum between 0.85 and 0.99\n",
    "    momentum = np.random.uniform(0.85, 0.99)\n",
    "    \n",
    "    values.append((lr, momentum))\n",
    "       \n",
    "plot_hyperparameter_search(values)"
   ]
  },
  {
   "cell_type": "code",
   "execution_count": null,
   "id": "d79ec622-8e1d-4340-a93e-2f8a793b9270",
   "metadata": {},
   "outputs": [],
   "source": []
  }
 ],
 "metadata": {
  "kernelspec": {
   "display_name": "Python 3 (ipykernel)",
   "language": "python",
   "name": "python3"
  },
  "language_info": {
   "codemirror_mode": {
    "name": "ipython",
    "version": 3
   },
   "file_extension": ".py",
   "mimetype": "text/x-python",
   "name": "python",
   "nbconvert_exporter": "python",
   "pygments_lexer": "ipython3",
   "version": "3.10.12"
  }
 },
 "nbformat": 4,
 "nbformat_minor": 5
}
