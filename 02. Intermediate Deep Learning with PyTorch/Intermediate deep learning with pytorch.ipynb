{
 "cells": [
  {
   "cell_type": "markdown",
   "id": "c0d40b92-10d6-419e-b688-cddbd668002b",
   "metadata": {},
   "source": [
    "# Intermediate deep learning with pytorch"
   ]
  },
  {
   "cell_type": "markdown",
   "id": "b64c7a98-3cd7-4f1d-a38d-858d9168b0f2",
   "metadata": {},
   "source": [
    "## Chapter 1 - Training Robust Neural Networks\n",
    "\n",
    "### Section 1.2 - PyTorch and object-oriented programming"
   ]
  },
  {
   "cell_type": "markdown",
   "id": "110cee53-4240-4ce5-a2f3-91374bdf8b2d",
   "metadata": {},
   "source": [
    "#### PyTorch Dataset\n",
    "Time to refresh your PyTorch Datasets knowledge!\n",
    "\n",
    "Before model training can commence, you need to load the data and pass it to the model in the right format. In PyTorch, this is handled by Datasets and DataLoaders. Let's start with building a PyTorch Dataset for our water potability data.\n",
    "\n",
    "In this exercise, you will define a class called WaterDataset to load the data from a CSV file. To do this, you will need to implement the three methods which PyTorch expects a Dataset to have:\n",
    "\n",
    "- `.__init__()` to load the data,\n",
    "- `.__len__()` to return data size,\n",
    "- `.__getitem()__` to extract features and label for a single sample.\n",
    "The following imports that you need have already been done for you:\n",
    "\n",
    "`import pandas as pd\n",
    "from torch.utils.data import Dataset`"
   ]
  },
  {
   "cell_type": "code",
   "execution_count": null,
   "id": "b7da180c-e515-4b1a-952c-5f370edcad89",
   "metadata": {},
   "outputs": [],
   "source": [
    "import torch\n",
    "\n",
    "# Check if GPU is available\n",
    "print(torch.cuda.is_available())"
   ]
  },
  {
   "cell_type": "code",
   "execution_count": null,
   "id": "a4c06e37-58e6-4d70-8633-70504ebd6931",
   "metadata": {},
   "outputs": [],
   "source": [
    "from torch.utils.data import Dataset\n",
    "import pandas as pd\n",
    "\n",
    "class WaterDataset(Dataset):\n",
    "    def __init__(self, csv_path):\n",
    "        super().__init__()\n",
    "        # Load data to pandas DataFrame\n",
    "        df = pd.read_csv(csv_path)\n",
    "        # Convert data to a NumPy array and assign to self.data\n",
    "        self.data = df.to_numpy()\n",
    "        \n",
    "    # Implement __len__ to return the number of data samples\n",
    "    def __len__(self):\n",
    "        return self.data.shape[0]\n",
    "    \n",
    "    def __getitem__(self, idx):\n",
    "        features = torch.tensor(self.data[idx, :-1]).float()\n",
    "        # Assign last data column to label\n",
    "        label = torch.tensor(self.data[idx,-1]).float()\n",
    "        return features, label"
   ]
  },
  {
   "cell_type": "markdown",
   "id": "4500bfc4-6f4c-4142-8dd1-05f61ecbdb78",
   "metadata": {},
   "source": [
    "#### PyTorch DataLoader\n",
    "Good job defining the Dataset class! The `WaterDataset` you just created is now available for you to use.\n",
    "\n",
    "The next step in preparing the training data is to set up a `DataLoader`. A PyTorch `DataLoader` can be created from a `Dataset` to load data, split it into batches, and perform transformations on the data if desired. Then, it yields a data sample ready for training.\n",
    "\n",
    "In this exercise, you will build a `DataLoader` based on the `WaterDataset`. The `DataLoader` class you will need has already been imported for you from `torch.utils.data`. Let's get to it!"
   ]
  },
  {
   "cell_type": "code",
   "execution_count": null,
   "id": "423df611-a15a-4c2c-a8ed-8f8fdfee8a53",
   "metadata": {},
   "outputs": [],
   "source": [
    "from torch.utils.data import DataLoader\n",
    "import torch\n",
    "\n",
    "# Create an instance of the WaterDataset\n",
    "dataset_train = WaterDataset(\"water_potability.csv\")\n",
    "\n",
    "# Create a DataLoader based on dataset_train\n",
    "dataloader_train = DataLoader(\n",
    "    dataset_train,\n",
    "    batch_size=2,\n",
    "    shuffle=False,\n",
    ")\n",
    "\n",
    "# Get a batch of features and labels\n",
    "features, labels = next(iter(dataloader_train))\n",
    "print(features, labels)"
   ]
  },
  {
   "cell_type": "markdown",
   "id": "f075d945-954d-4e5f-860a-633a1ce2aef3",
   "metadata": {},
   "source": [
    "#### PyTorch Model\n",
    "You will use the OOP approach to define the model architecture. Recall that this requires setting up a model class and defining two methods inside it:\n",
    "\n",
    "- `.__init__()`, in which you define the layers you want to use;\n",
    "\n",
    "- `forward()`, in which you define what happens to the model inputs once it receives them; this is where you pass inputs through pre-defined layers.\n",
    "\n",
    "Let's build a model with three linear layers and ReLU activations. After the last linear layer, you need a sigmoid activation instead, which is well-suited for binary classification tasks like our water potability prediction problem. Here's the model defined using nn.Sequential(), which you may be more familiar with:\n",
    "\n",
    "```\n",
    "net = nn.Sequential(\n",
    "  nn.Linear(9, 16),\n",
    "  nn.ReLU(),\n",
    "  nn.Linear(16, 8),\n",
    "  nn.ReLU(),\n",
    "  nn.Linear(8, 1),\n",
    "  nn.Sigmoid(),\n",
    ")\n",
    "```"
   ]
  },
  {
   "cell_type": "code",
   "execution_count": null,
   "id": "1a8daada-cb29-4abb-a8fc-39f5ae8e192f",
   "metadata": {},
   "outputs": [],
   "source": [
    "import torch.nn as nn\n",
    "import torch.nn.functional as F\n",
    "\n",
    "class Net(nn.Module):\n",
    "    def __init__(self):\n",
    "        super().__init__()\n",
    "        # Define the three linear layers\n",
    "        self.fc1 = nn.Linear(9, 16)\n",
    "        self.fc2 = nn.Linear(16, 8)\n",
    "        self.fc3 = nn.Linear(8,1)\n",
    "        \n",
    "    def forward(self, x):\n",
    "        # Pass x through linear layers adding activations\n",
    "        x = nn.functional.relu(self.fc1(x))\n",
    "        x = nn.functional.relu(self.fc2(x))\n",
    "        x = nn.functional.sigmoid(self.fc3(x))\n",
    "        return x"
   ]
  },
  {
   "cell_type": "markdown",
   "id": "2d1cce8c-cdf3-42f9-bff4-bbd5f358b492",
   "metadata": {},
   "source": [
    "#### Optimizers\n",
    "It's time to explore the different optimizers that you can use for training your model.\n",
    "\n",
    "A custom function called `train_model(optimizer, net, num_epochs)` has been defined for you. It takes the optimizer, the model, and the number of epochs as inputs, runs the training loops, and prints the training loss at the end.\n",
    "\n",
    "Let's use `train_model()` to run a few short trainings with different optimizers and compare the results!"
   ]
  },
  {
   "cell_type": "code",
   "execution_count": null,
   "id": "bae7f7ff-e01b-41b0-95aa-6d2cfb0e871c",
   "metadata": {},
   "outputs": [],
   "source": [
    "def train_model(optimizer, net, num_epochs):\n",
    "    criterion = nn.BCELoss()\n",
    "    for epoch in range(num_epochs):\n",
    "        running_loss = 0.\n",
    "        for features, labels in dataloader_train:\n",
    "            optimizer.zero_grad()\n",
    "            outputs = net(features)\n",
    "            loss = criterion(outputs, labels.view(-1, 1))\n",
    "            loss.backward()\n",
    "            optimizer.step()\n",
    "            running_loss += loss.item()\n",
    "    train_loss = running_loss / len(dataloader_train)\n",
    "    print(f\"Training loss after {num_epochs} epochs: {train_loss}\")"
   ]
  },
  {
   "cell_type": "code",
   "execution_count": null,
   "id": "76b6da22-eafa-4758-b72a-96e993e26ae6",
   "metadata": {},
   "outputs": [],
   "source": [
    "import torch.optim as optim\n",
    "\n",
    "net = Net()\n",
    "\n",
    "# Define the SGD optimizer\n",
    "optimizer = optim.SGD(net.parameters(), lr=0.001)\n",
    "\n",
    "train_model(\n",
    "    optimizer=optimizer,\n",
    "    net=net,\n",
    "    num_epochs=10,\n",
    ")"
   ]
  },
  {
   "cell_type": "code",
   "execution_count": null,
   "id": "cfbb2995-62f1-4c4b-a3cb-56f7a9e88692",
   "metadata": {},
   "outputs": [],
   "source": [
    "import torch.optim as optim\n",
    "\n",
    "net = Net()\n",
    "\n",
    "# Define the RMSprop optimizer\n",
    "optimizer = optim.RMSprop(net.parameters(), lr=0.001)\n",
    "\n",
    "train_model(\n",
    "    optimizer=optimizer,\n",
    "    net=net,\n",
    "    num_epochs=10,\n",
    ")"
   ]
  },
  {
   "cell_type": "code",
   "execution_count": null,
   "id": "756e48fb-3e16-4ad3-bb22-addea8d77e2b",
   "metadata": {},
   "outputs": [],
   "source": [
    "import torch.optim as optim\n",
    "\n",
    "net = Net()\n",
    "\n",
    "# Define the Adam optimizer\n",
    "optimizer = optim.Adam(net.parameters(), lr=0.001)\n",
    "\n",
    "train_model(\n",
    "    optimizer=optimizer,\n",
    "    net=net,\n",
    "    num_epochs=10,\n",
    ")"
   ]
  },
  {
   "cell_type": "markdown",
   "id": "6bd5fb26-3b8e-40ed-bae9-126838dd4331",
   "metadata": {},
   "source": [
    "#### Model evaluation\n",
    "With the training loop sorted out, you have trained the model for 1000 epochs, and it is available to you as `net`. You have also set up a `test_dataloader` in exactly the same way as you did with `train_dataloader` before—just reading the data from the test rather than the train directory.\n",
    "\n",
    "You can now evaluate the model on test data. To do this, you will need to write the evaluation loop to iterate over the batches of test data, get the model's predictions for each batch, and calculate the accuracy score for it. Let's do it!"
   ]
  },
  {
   "cell_type": "markdown",
   "id": "8a5a0f31-b379-4813-937d-2d32bd18c45d",
   "metadata": {},
   "source": [
    "**Intermezzo** - create test and train loader. The train the model."
   ]
  },
  {
   "cell_type": "code",
   "execution_count": null,
   "id": "80712861-58d6-4b06-8073-5c5f2bc81770",
   "metadata": {},
   "outputs": [],
   "source": [
    "from torch.utils.data import TensorDataset, DataLoader\n",
    "import torch.optim as optim\n",
    "import torch.nn.init as init\n",
    "\n",
    "def train_model(optimizer, net, num_epochs):\n",
    "    criterion = nn.BCELoss()\n",
    "    for epoch in range(num_epochs):\n",
    "        running_loss = 0.\n",
    "        for features, labels in dataloader_train:\n",
    "            optimizer.zero_grad()\n",
    "            outputs = net(features)\n",
    "            loss = criterion(outputs, labels.view(-1, 1))\n",
    "            loss.backward()\n",
    "            optimizer.step()\n",
    "            running_loss += loss.item()\n",
    "    train_loss = running_loss / len(dataloader_train)\n",
    "    print(f\"Training loss after {num_epochs} epochs: {train_loss}\")\n",
    "\n",
    "dataset = pd.read_csv(\"water_potability.csv\")\n",
    "train_dataset = dataset.sample(frac=0.8)\n",
    "train_dataset.to_csv(\"water_potability_train.csv\", index=False)\n",
    "test_dataset = dataset.drop(index=train_dataset.index)\n",
    "test_dataset.to_csv(\"water_potability_test.csv\", index=False)\n",
    "\n",
    "# create a train and test loader\n",
    "batch_size = 32\n",
    "train_pytorch_dataset = WaterDataset(\"water_potability_train.csv\")\n",
    "dataloader_train = DataLoader(train_pytorch_dataset, batch_size=batch_size, shuffle=True)\n",
    "\n",
    "test_pytorch_dataset = WaterDataset(\"water_potability_test.csv\")\n",
    "dataloader_test = DataLoader(test_pytorch_dataset, batch_size=batch_size, shuffle=False)\n",
    "\n",
    "net = Net()\n",
    "optimizer = optim.Adam(net.parameters(), lr=0.005)\n",
    "\n",
    "train_model(optimizer=optimizer, net=net, num_epochs=200)"
   ]
  },
  {
   "cell_type": "markdown",
   "id": "2a007e63-6799-4a2b-bd8b-b4783681f214",
   "metadata": {},
   "source": [
    "**the exercise**"
   ]
  },
  {
   "cell_type": "code",
   "execution_count": null,
   "id": "cdc1c088-026c-42ed-baa1-900eaf43c3d2",
   "metadata": {},
   "outputs": [],
   "source": [
    "import torch\n",
    "from torchmetrics import Accuracy\n",
    "\n",
    "# Set up binary accuracy metric\n",
    "acc = Accuracy(task='binary')\n",
    "\n",
    "net.eval()\n",
    "with torch.no_grad():\n",
    "    for features, labels in dataloader_test:\n",
    "        # Get predicted probabilities for test data batch\n",
    "        outputs = net(features)\n",
    "        preds = (outputs >= 0.5).float()\n",
    "        acc(preds, labels.view(-1,1))\n",
    "\n",
    "# Compute total test accuracy\n",
    "test_accuracy = acc.compute()\n",
    "print(f\"Test accuracy: {test_accuracy*100:.2f}%\")"
   ]
  },
  {
   "cell_type": "markdown",
   "id": "d4d950d9-ffa3-41aa-9b36-d90fea2fde5a",
   "metadata": {},
   "source": [
    "### Section 1.3 - Vanashing and exploding gradients"
   ]
  },
  {
   "cell_type": "markdown",
   "id": "031e00d7-f1ff-429e-b9a5-9681fb8cda40",
   "metadata": {},
   "source": [
    "#### Initialization and activation\n",
    "The problems of unstable (vanishing or exploding) gradients are a challenge that often arises in training deep neural networks. In this and the following exercises, you will expand the model architecture that you built for the water potability classification task to make it more immune to those problems.\n",
    "\n",
    "As a first step, you'll improve the weights initialization by using He (Kaiming) initialization strategy. To do so, you will need to call the proper initializer from the `torch.nn.init` module, which has been imported for you as `init`. Next, you will update the activations functions from the default ReLU to the often better ELU."
   ]
  },
  {
   "cell_type": "code",
   "execution_count": null,
   "id": "b7103dc4-b0dd-4980-b841-8d4726e4e870",
   "metadata": {},
   "outputs": [],
   "source": [
    "class Net(nn.Module):\n",
    "    def __init__(self):\n",
    "        super().__init__()\n",
    "        self.fc1 = nn.Linear(9, 16)\n",
    "        self.fc2 = nn.Linear(16, 8)\n",
    "        self.fc3 = nn.Linear(8, 1)\n",
    "        \n",
    "        # Apply He initialization\n",
    "        init.kaiming_uniform_(self.fc1.weight)\n",
    "        init.kaiming_uniform_(self.fc2.weight)\n",
    "        init.kaiming_uniform_(self.fc3.weight, nonlinearity=\"sigmoid\")\n",
    "\n",
    "    def forward(self, x):\n",
    "        # Update ReLU activation to ELU\n",
    "        x = nn.functional.elu(self.fc1(x))\n",
    "        x = nn.functional.elu(self.fc2(x))\n",
    "        x = nn.functional.sigmoid(self.fc3(x))\n",
    "        return x"
   ]
  },
  {
   "cell_type": "markdown",
   "id": "13851eed-5ae9-440b-833b-f60520268adf",
   "metadata": {},
   "source": [
    "#### Batch Normalization\n",
    "\n",
    "As a final improvement to the model architecture, let's add the batch normalization layer after each of the two linear layers. The batch norm trick tends to accelerate training convergence and protects the model from vanishing and exploding gradients issues.\n",
    "\n",
    "Both torch.nn and torch.nn.init have already been imported for you as nn and init, respectively. Once you implement the change in the model architecture, be ready to answer a short question on how batch normalization works!"
   ]
  },
  {
   "cell_type": "code",
   "execution_count": null,
   "id": "c31ade53-fb0a-4585-bd1a-7af1a6db27cc",
   "metadata": {},
   "outputs": [],
   "source": [
    "class Net(nn.Module):\n",
    "    def __init__(self):\n",
    "        super().__init__()\n",
    "        self.fc1 = nn.Linear(9, 16)\n",
    "        # Add two batch normalization layers\n",
    "        self.bn1 = nn.BatchNorm1d(16)\n",
    "        self.fc2 = nn.Linear(16, 8)\n",
    "        self.bn2 = nn.BatchNorm1d(8)\n",
    "        self.fc3 = nn.Linear(8, 1)\n",
    "        \n",
    "        init.kaiming_uniform_(self.fc1.weight)\n",
    "        init.kaiming_uniform_(self.fc2.weight)\n",
    "        init.kaiming_uniform_(self.fc3.weight, nonlinearity=\"sigmoid\")\n",
    "    \n",
    "    def forward(self, x):\n",
    "        x = self.fc1(x)\n",
    "        x = self.bn1(x)\n",
    "        x = nn.functional.elu(x)\n",
    "\n",
    "        # Pass x through the second set of layers\n",
    "        x = self.fc2(x)\n",
    "        x = self.bn2(x)\n",
    "        x = nn.functional.elu(x)\n",
    "\n",
    "        x = nn.functional.sigmoid(self.fc3(x))\n",
    "        return x"
   ]
  },
  {
   "cell_type": "markdown",
   "id": "137c3c47-c236-489b-a43b-fdf80b2491e9",
   "metadata": {},
   "source": [
    "## Chapter 2 - Images & Convolutional Neural Networks\n",
    "\n",
    "Download the data from\n",
    "\n",
    "https://www.kaggle.com/competitions/cloud-type-classification2/data\n",
    "\n",
    "it is not include in the repository."
   ]
  },
  {
   "cell_type": "code",
   "execution_count": null,
   "id": "2b494eb9-d330-4ad7-8fff-efd35b960e5c",
   "metadata": {},
   "outputs": [],
   "source": []
  }
 ],
 "metadata": {
  "kernelspec": {
   "display_name": "Python 3 (ipykernel)",
   "language": "python",
   "name": "python3"
  },
  "language_info": {
   "codemirror_mode": {
    "name": "ipython",
    "version": 3
   },
   "file_extension": ".py",
   "mimetype": "text/x-python",
   "name": "python",
   "nbconvert_exporter": "python",
   "pygments_lexer": "ipython3",
   "version": "3.10.12"
  }
 },
 "nbformat": 4,
 "nbformat_minor": 5
}
